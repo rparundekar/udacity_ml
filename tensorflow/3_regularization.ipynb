{
 "cells": [
  {
   "cell_type": "markdown",
   "metadata": {
    "colab_type": "text",
    "id": "kR-4eNdK6lYS"
   },
   "source": [
    "Deep Learning\n",
    "=============\n",
    "\n",
    "Assignment 3\n",
    "------------\n",
    "\n",
    "Previously in `2_fullyconnected.ipynb`, you trained a logistic regression and a neural network model.\n",
    "\n",
    "The goal of this assignment is to explore regularization techniques."
   ]
  },
  {
   "cell_type": "code",
   "execution_count": 1,
   "metadata": {
    "cellView": "both",
    "colab": {
     "autoexec": {
      "startup": false,
      "wait_interval": 0
     }
    },
    "colab_type": "code",
    "collapsed": true,
    "id": "JLpLa8Jt7Vu4"
   },
   "outputs": [],
   "source": [
    "# These are all the modules we'll be using later. Make sure you can import them\n",
    "# before proceeding further.\n",
    "from __future__ import print_function\n",
    "import numpy as np\n",
    "import tensorflow as tf\n",
    "from six.moves import cPickle as pickle"
   ]
  },
  {
   "cell_type": "markdown",
   "metadata": {
    "colab_type": "text",
    "id": "1HrCK6e17WzV"
   },
   "source": [
    "First reload the data we generated in _notmist.ipynb_."
   ]
  },
  {
   "cell_type": "code",
   "execution_count": 2,
   "metadata": {
    "cellView": "both",
    "colab": {
     "autoexec": {
      "startup": false,
      "wait_interval": 0
     },
     "output_extras": [
      {
       "item_id": 1
      }
     ]
    },
    "colab_type": "code",
    "collapsed": false,
    "executionInfo": {
     "elapsed": 11777,
     "status": "ok",
     "timestamp": 1449849322348,
     "user": {
      "color": "",
      "displayName": "",
      "isAnonymous": false,
      "isMe": true,
      "permissionId": "",
      "photoUrl": "",
      "sessionId": "0",
      "userId": ""
     },
     "user_tz": 480
    },
    "id": "y3-cj1bpmuxc",
    "outputId": "e03576f1-ebbe-4838-c388-f1777bcc9873"
   },
   "outputs": [
    {
     "name": "stdout",
     "output_type": "stream",
     "text": [
      "Training set (200000, 28, 28) (200000,)\n",
      "Validation set (10000, 28, 28) (10000,)\n",
      "Test set (10000, 28, 28) (10000,)\n"
     ]
    }
   ],
   "source": [
    "pickle_file = 'notMNIST.pickle'\n",
    "\n",
    "with open(pickle_file, 'rb') as f:\n",
    "  save = pickle.load(f)\n",
    "  train_dataset = save['train_dataset']\n",
    "  train_labels = save['train_labels']\n",
    "  valid_dataset = save['valid_dataset']\n",
    "  valid_labels = save['valid_labels']\n",
    "  test_dataset = save['test_dataset']\n",
    "  test_labels = save['test_labels']\n",
    "  del save  # hint to help gc free up memory\n",
    "  print('Training set', train_dataset.shape, train_labels.shape)\n",
    "  print('Validation set', valid_dataset.shape, valid_labels.shape)\n",
    "  print('Test set', test_dataset.shape, test_labels.shape)"
   ]
  },
  {
   "cell_type": "markdown",
   "metadata": {
    "colab_type": "text",
    "id": "L7aHrm6nGDMB"
   },
   "source": [
    "Reformat into a shape that's more adapted to the models we're going to train:\n",
    "- data as a flat matrix,\n",
    "- labels as float 1-hot encodings."
   ]
  },
  {
   "cell_type": "code",
   "execution_count": 3,
   "metadata": {
    "cellView": "both",
    "colab": {
     "autoexec": {
      "startup": false,
      "wait_interval": 0
     },
     "output_extras": [
      {
       "item_id": 1
      }
     ]
    },
    "colab_type": "code",
    "collapsed": false,
    "executionInfo": {
     "elapsed": 11728,
     "status": "ok",
     "timestamp": 1449849322356,
     "user": {
      "color": "",
      "displayName": "",
      "isAnonymous": false,
      "isMe": true,
      "permissionId": "",
      "photoUrl": "",
      "sessionId": "0",
      "userId": ""
     },
     "user_tz": 480
    },
    "id": "IRSyYiIIGIzS",
    "outputId": "3f8996ee-3574-4f44-c953-5c8a04636582"
   },
   "outputs": [
    {
     "name": "stdout",
     "output_type": "stream",
     "text": [
      "Training set (200000, 784) (200000, 10)\n",
      "Validation set (10000, 784) (10000, 10)\n",
      "Test set (10000, 784) (10000, 10)\n"
     ]
    }
   ],
   "source": [
    "image_size = 28\n",
    "num_labels = 10\n",
    "\n",
    "def reformat(dataset, labels):\n",
    "  dataset = dataset.reshape((-1, image_size * image_size)).astype(np.float32)\n",
    "  # Map 2 to [0.0, 1.0, 0.0 ...], 3 to [0.0, 0.0, 1.0 ...]\n",
    "  labels = (np.arange(num_labels) == labels[:,None]).astype(np.float32)\n",
    "  return dataset, labels\n",
    "train_dataset, train_labels = reformat(train_dataset, train_labels)\n",
    "valid_dataset, valid_labels = reformat(valid_dataset, valid_labels)\n",
    "test_dataset, test_labels = reformat(test_dataset, test_labels)\n",
    "print('Training set', train_dataset.shape, train_labels.shape)\n",
    "print('Validation set', valid_dataset.shape, valid_labels.shape)\n",
    "print('Test set', test_dataset.shape, test_labels.shape)"
   ]
  },
  {
   "cell_type": "code",
   "execution_count": 4,
   "metadata": {
    "cellView": "both",
    "colab": {
     "autoexec": {
      "startup": false,
      "wait_interval": 0
     }
    },
    "colab_type": "code",
    "collapsed": true,
    "id": "RajPLaL_ZW6w"
   },
   "outputs": [],
   "source": [
    "def accuracy(predictions, labels):\n",
    "  return (100.0 * np.sum(np.argmax(predictions, 1) == np.argmax(labels, 1))\n",
    "          / predictions.shape[0])"
   ]
  },
  {
   "cell_type": "markdown",
   "metadata": {
    "colab_type": "text",
    "id": "sgLbUAQ1CW-1"
   },
   "source": [
    "---\n",
    "Problem 1\n",
    "---------\n",
    "\n",
    "Introduce and tune L2 regularization for both logistic and neural network models. Remember that L2 amounts to adding a penalty on the norm of the weights to the loss. In TensorFlow, you can compute the L2 loss for a tensor `t` using `nn.l2_loss(t)`. The right amount of regularization should improve your validation / test accuracy.\n",
    "\n",
    "---"
   ]
  },
  {
   "cell_type": "code",
   "execution_count": 12,
   "metadata": {
    "collapsed": false
   },
   "outputs": [
    {
     "name": "stdout",
     "output_type": "stream",
     "text": [
      "WARNING:tensorflow:From <ipython-input-12-923d5fb6e931>:41 in <module>.: initialize_all_variables (from tensorflow.python.ops.variables) is deprecated and will be removed after 2017-03-02.\n",
      "Instructions for updating:\n",
      "Use `tf.global_variables_initializer` instead.\n",
      "Initialized\n",
      "Minibatch loss at step 0: 1544.409180\n",
      "Minibatch accuracy: 10.2%\n",
      "Validation accuracy: 29.6%\n",
      "Minibatch loss at step 500: 172.746567\n",
      "Minibatch accuracy: 83.6%\n",
      "Validation accuracy: 81.7%\n",
      "Minibatch loss at step 1000: 24.707052\n",
      "Minibatch accuracy: 83.6%\n",
      "Validation accuracy: 85.0%\n",
      "Minibatch loss at step 1500: 3.899754\n",
      "Minibatch accuracy: 90.6%\n",
      "Validation accuracy: 85.4%\n",
      "Minibatch loss at step 2000: 1.012410\n",
      "Minibatch accuracy: 91.4%\n",
      "Validation accuracy: 85.3%\n",
      "Minibatch loss at step 2500: 0.659064\n",
      "Minibatch accuracy: 87.5%\n",
      "Validation accuracy: 85.3%\n",
      "Minibatch loss at step 3000: 0.650018\n",
      "Minibatch accuracy: 85.9%\n",
      "Validation accuracy: 85.8%\n",
      "Test accuracy: 92.2%\n"
     ]
    }
   ],
   "source": [
    "#Deep Neural Network Model\n",
    "batch_size = 128\n",
    "\n",
    "graph = tf.Graph()\n",
    "with graph.as_default():\n",
    "\n",
    "  # Input data. For the training data, we use a placeholder that will be fed\n",
    "  # at run time with a training minibatch.\n",
    "  tf_train_dataset = tf.placeholder(tf.float32,\n",
    "                                    shape=(batch_size, image_size * image_size))\n",
    "  tf_train_labels = tf.placeholder(tf.float32, shape=(batch_size, num_labels))\n",
    "  tf_valid_dataset = tf.constant(valid_dataset)\n",
    "  tf_test_dataset = tf.constant(test_dataset)\n",
    "  \n",
    "  # Variables.\n",
    "  weights1 = tf.Variable(tf.truncated_normal([image_size * image_size, 1024]))\n",
    "  biases1 = tf.Variable(tf.zeros([1024]))\n",
    "  logits1 = tf.matmul(tf_train_dataset, weights1) + biases1\n",
    "  relu = tf.nn.relu(logits1)\n",
    "    \n",
    "  weights2 = tf.Variable(tf.truncated_normal([1024, num_labels]))\n",
    "  biases2 = tf.Variable(tf.zeros([num_labels]))\n",
    "\n",
    "  # Training computation.\n",
    "  logits2 = tf.matmul(relu, weights2) + biases2\n",
    "  loss1 = tf.reduce_mean(\n",
    "    tf.nn.softmax_cross_entropy_with_logits(logits2, tf_train_labels))\n",
    "  l2Loss = loss1 + (tf.nn.l2_loss(weights1)/(2*batch_size)) + (tf.nn.l2_loss(weights2)/(2*batch_size))\n",
    "    \n",
    "  # Optimizer.\n",
    "  optimizer = tf.train.GradientDescentOptimizer(0.5).minimize(l2Loss)\n",
    "  \n",
    "  # Predictions for the training, validation, and test data.\n",
    "  train_prediction = tf.nn.softmax(logits2)\n",
    "  valid_prediction = tf.nn.softmax(tf.matmul(tf.nn.relu(tf.matmul(tf_valid_dataset, weights1) + biases1), weights2) + biases2)\n",
    "  test_prediction = tf.nn.softmax(tf.matmul(tf.nn.relu(tf.matmul(tf_test_dataset, weights1) + biases1), weights2) + biases2)\n",
    "\n",
    "num_steps = 3001\n",
    "\n",
    "with tf.Session(graph=graph) as session:\n",
    "  tf.initialize_all_variables().run()\n",
    "  print(\"Initialized\")\n",
    "  for step in range(num_steps):\n",
    "    # Pick an offset within the training data, which has been randomized.\n",
    "    # Note: we could use better randomization across epochs.\n",
    "    offset = (step * batch_size) % (train_labels.shape[0] - batch_size)\n",
    "    # Generate a minibatch.\n",
    "    batch_data = train_dataset[offset:(offset + batch_size), :]\n",
    "    batch_labels = train_labels[offset:(offset + batch_size), :]\n",
    "    # Prepare a dictionary telling the session where to feed the minibatch.\n",
    "    # The key of the dictionary is the placeholder node of the graph to be fed,\n",
    "    # and the value is the numpy array to feed to it.\n",
    "    feed_dict = {tf_train_dataset : batch_data, tf_train_labels : batch_labels}\n",
    "    _, l, predictions = session.run(\n",
    "      [optimizer, l2Loss, train_prediction], feed_dict=feed_dict)\n",
    "    if (step % 500 == 0):\n",
    "      print(\"Minibatch loss at step %d: %f\" % (step, l))\n",
    "      print(\"Minibatch accuracy: %.1f%%\" % accuracy(predictions, batch_labels))\n",
    "      print(\"Validation accuracy: %.1f%%\" % accuracy(\n",
    "        valid_prediction.eval(), valid_labels))\n",
    "  print(\"Test accuracy: %.1f%%\" % accuracy(test_prediction.eval(), test_labels))"
   ]
  },
  {
   "cell_type": "markdown",
   "metadata": {
    "colab_type": "text",
    "id": "na8xX2yHZzNF"
   },
   "source": [
    "---\n",
    "Problem 2\n",
    "---------\n",
    "Let's demonstrate an extreme case of overfitting. Restrict your training data to just a few batches. What happens?\n",
    "\n",
    "---"
   ]
  },
  {
   "cell_type": "code",
   "execution_count": 8,
   "metadata": {
    "collapsed": false
   },
   "outputs": [
    {
     "name": "stdout",
     "output_type": "stream",
     "text": [
      "WARNING:tensorflow:From <ipython-input-8-cc417245c635>:41 in <module>.: initialize_all_variables (from tensorflow.python.ops.variables) is deprecated and will be removed after 2017-03-02.\n",
      "Instructions for updating:\n",
      "Use `tf.global_variables_initializer` instead.\n",
      "Initialized\n",
      "Minibatch loss at step 0: 466.778046\n",
      "Minibatch accuracy: 12.7%\n",
      "Validation accuracy: 28.6%\n",
      "Minibatch loss at step 500: 122.600449\n",
      "Minibatch accuracy: 82.7%\n",
      "Validation accuracy: 83.5%\n",
      "Minibatch loss at step 1000: 93.157631\n",
      "Minibatch accuracy: 87.1%\n",
      "Validation accuracy: 82.9%\n",
      "Minibatch loss at step 1500: 72.777695\n",
      "Minibatch accuracy: 85.4%\n",
      "Validation accuracy: 83.7%\n",
      "Minibatch loss at step 2000: 56.710712\n",
      "Minibatch accuracy: 85.8%\n",
      "Validation accuracy: 84.9%\n",
      "Minibatch loss at step 2500: 44.074535\n",
      "Minibatch accuracy: 89.1%\n",
      "Validation accuracy: 85.1%\n",
      "Minibatch loss at step 3000: 34.583302\n",
      "Minibatch accuracy: 89.5%\n",
      "Validation accuracy: 85.9%\n",
      "Test accuracy: 92.4%\n"
     ]
    }
   ],
   "source": [
    "#Deep Neural Network Model\n",
    "batch_size = 1024\n",
    "\n",
    "graph = tf.Graph()\n",
    "with graph.as_default():\n",
    "\n",
    "  # Input data. For the training data, we use a placeholder that will be fed\n",
    "  # at run time with a training minibatch.\n",
    "  tf_train_dataset = tf.placeholder(tf.float32,\n",
    "                                    shape=(batch_size, image_size * image_size))\n",
    "  tf_train_labels = tf.placeholder(tf.float32, shape=(batch_size, num_labels))\n",
    "  tf_valid_dataset = tf.constant(valid_dataset)\n",
    "  tf_test_dataset = tf.constant(test_dataset)\n",
    "  \n",
    "  # Variables.\n",
    "  weights1 = tf.Variable(tf.truncated_normal([image_size * image_size, 1024]))\n",
    "  biases1 = tf.Variable(tf.zeros([1024]))\n",
    "  logits1 = tf.matmul(tf_train_dataset, weights1) + biases1\n",
    "  relu = tf.nn.relu(logits1)\n",
    "    \n",
    "  weights2 = tf.Variable(tf.truncated_normal([1024, num_labels]))\n",
    "  biases2 = tf.Variable(tf.zeros([num_labels]))\n",
    "\n",
    "  # Training computation.\n",
    "  logits2 = tf.matmul(relu, weights2) + biases2\n",
    "  loss1 = tf.reduce_mean(\n",
    "    tf.nn.softmax_cross_entropy_with_logits(logits2, tf_train_labels))\n",
    "  l2Loss = loss1 + (tf.nn.l2_loss(weights1)/(2*batch_size)) + (tf.nn.l2_loss(weights2)/(2*batch_size))\n",
    "    \n",
    "  # Optimizer.\n",
    "  optimizer = tf.train.GradientDescentOptimizer(0.5).minimize(l2Loss)\n",
    "  \n",
    "  # Predictions for the training, validation, and test data.\n",
    "  train_prediction = tf.nn.softmax(logits2)\n",
    "  valid_prediction = tf.nn.softmax(tf.matmul(tf.nn.relu(tf.matmul(tf_valid_dataset, weights1) + biases1), weights2) + biases2)\n",
    "  test_prediction = tf.nn.softmax(tf.matmul(tf.nn.relu(tf.matmul(tf_test_dataset, weights1) + biases1), weights2) + biases2)\n",
    "\n",
    "num_steps = 3001\n",
    "\n",
    "with tf.Session(graph=graph) as session:\n",
    "  tf.initialize_all_variables().run()\n",
    "  print(\"Initialized\")\n",
    "  for step in range(num_steps):\n",
    "    # Pick an offset within the training data, which has been randomized.\n",
    "    # Note: we could use better randomization across epochs.\n",
    "    offset = (step * batch_size) % (train_labels.shape[0] - batch_size)\n",
    "    # Generate a minibatch.\n",
    "    batch_data = train_dataset[offset:(offset + batch_size), :]\n",
    "    batch_labels = train_labels[offset:(offset + batch_size), :]\n",
    "    # Prepare a dictionary telling the session where to feed the minibatch.\n",
    "    # The key of the dictionary is the placeholder node of the graph to be fed,\n",
    "    # and the value is the numpy array to feed to it.\n",
    "    feed_dict = {tf_train_dataset : batch_data, tf_train_labels : batch_labels}\n",
    "    _, l, predictions = session.run(\n",
    "      [optimizer, l2Loss, train_prediction], feed_dict=feed_dict)\n",
    "    if (step % 500 == 0):\n",
    "      print(\"Minibatch loss at step %d: %f\" % (step, l))\n",
    "      print(\"Minibatch accuracy: %.1f%%\" % accuracy(predictions, batch_labels))\n",
    "      print(\"Validation accuracy: %.1f%%\" % accuracy(\n",
    "        valid_prediction.eval(), valid_labels))\n",
    "  print(\"Test accuracy: %.1f%%\" % accuracy(test_prediction.eval(), test_labels))"
   ]
  },
  {
   "cell_type": "markdown",
   "metadata": {
    "colab_type": "text",
    "id": "ww3SCBUdlkRc"
   },
   "source": [
    "---\n",
    "Problem 3\n",
    "---------\n",
    "Introduce Dropout on the hidden layer of the neural network. Remember: Dropout should only be introduced during training, not evaluation, otherwise your evaluation results would be stochastic as well. TensorFlow provides `nn.dropout()` for that, but you have to make sure it's only inserted during training.\n",
    "\n",
    "What happens to our extreme overfitting case?\n",
    "\n",
    "---"
   ]
  },
  {
   "cell_type": "code",
   "execution_count": 9,
   "metadata": {
    "collapsed": false
   },
   "outputs": [
    {
     "name": "stdout",
     "output_type": "stream",
     "text": [
      "WARNING:tensorflow:From <ipython-input-9-ecafbce84569>:41 in <module>.: initialize_all_variables (from tensorflow.python.ops.variables) is deprecated and will be removed after 2017-03-02.\n",
      "Instructions for updating:\n",
      "Use `tf.global_variables_initializer` instead.\n",
      "Initialized\n",
      "Minibatch loss at step 0: 1749.012695\n",
      "Minibatch accuracy: 14.1%\n",
      "Validation accuracy: 30.1%\n",
      "Minibatch loss at step 500: 176.356186\n",
      "Minibatch accuracy: 82.8%\n",
      "Validation accuracy: 81.0%\n",
      "Minibatch loss at step 1000: 24.724424\n",
      "Minibatch accuracy: 83.6%\n",
      "Validation accuracy: 84.4%\n",
      "Minibatch loss at step 1500: 3.997409\n",
      "Minibatch accuracy: 89.1%\n",
      "Validation accuracy: 84.4%\n",
      "Minibatch loss at step 2000: 1.076956\n",
      "Minibatch accuracy: 91.4%\n",
      "Validation accuracy: 84.6%\n",
      "Minibatch loss at step 2500: 0.750437\n",
      "Minibatch accuracy: 85.9%\n",
      "Validation accuracy: 84.4%\n",
      "Minibatch loss at step 3000: 0.760689\n",
      "Minibatch accuracy: 84.4%\n",
      "Validation accuracy: 84.7%\n",
      "Test accuracy: 91.5%\n"
     ]
    }
   ],
   "source": [
    "#Deep Neural Network Model\n",
    "batch_size = 128\n",
    "\n",
    "graph = tf.Graph()\n",
    "with graph.as_default():\n",
    "\n",
    "  # Input data. For the training data, we use a placeholder that will be fed\n",
    "  # at run time with a training minibatch.\n",
    "  tf_train_dataset = tf.placeholder(tf.float32,\n",
    "                                    shape=(batch_size, image_size * image_size))\n",
    "  tf_train_labels = tf.placeholder(tf.float32, shape=(batch_size, num_labels))\n",
    "  tf_valid_dataset = tf.constant(valid_dataset)\n",
    "  tf_test_dataset = tf.constant(test_dataset)\n",
    "  \n",
    "  # Variables.\n",
    "  weights1 = tf.Variable(tf.truncated_normal([image_size * image_size, 1024]))\n",
    "  biases1 = tf.Variable(tf.zeros([1024]))\n",
    "  logits1 = tf.matmul(tf_train_dataset, weights1) + biases1\n",
    "  relu = tf.nn.relu(logits1)\n",
    "  drop1 = tf.nn.dropout(relu,0.5)\n",
    "  weights2 = tf.Variable(tf.truncated_normal([1024, num_labels]))\n",
    "  biases2 = tf.Variable(tf.zeros([num_labels]))\n",
    "\n",
    "  # Training computation.\n",
    "  logits2 = tf.matmul(drop1, weights2) + biases2\n",
    "  loss1 = tf.reduce_mean(\n",
    "    tf.nn.softmax_cross_entropy_with_logits(logits2, tf_train_labels))\n",
    "  l2Loss = loss1 + (tf.nn.l2_loss(weights1)/(2*batch_size)) + (tf.nn.l2_loss(weights2)/(2*batch_size))\n",
    "    \n",
    "  # Optimizer.\n",
    "  optimizer = tf.train.GradientDescentOptimizer(0.5).minimize(l2Loss)\n",
    "  \n",
    "  # Predictions for the training, validation, and test data.\n",
    "  train_prediction = tf.nn.softmax(tf.matmul(tf.nn.relu(tf.matmul(tf_train_dataset, weights1) + biases1), weights2) + biases2)\n",
    "  valid_prediction = tf.nn.softmax(tf.matmul(tf.nn.relu(tf.matmul(tf_valid_dataset, weights1) + biases1), weights2) + biases2)\n",
    "  test_prediction = tf.nn.softmax(tf.matmul(tf.nn.relu(tf.matmul(tf_test_dataset, weights1) + biases1), weights2) + biases2)\n",
    "\n",
    "num_steps = 3001\n",
    "\n",
    "with tf.Session(graph=graph) as session:\n",
    "  tf.initialize_all_variables().run()\n",
    "  print(\"Initialized\")\n",
    "  for step in range(num_steps):\n",
    "    # Pick an offset within the training data, which has been randomized.\n",
    "    # Note: we could use better randomization across epochs.\n",
    "    offset = (step * batch_size) % (train_labels.shape[0] - batch_size)\n",
    "    # Generate a minibatch.\n",
    "    batch_data = train_dataset[offset:(offset + batch_size), :]\n",
    "    batch_labels = train_labels[offset:(offset + batch_size), :]\n",
    "    # Prepare a dictionary telling the session where to feed the minibatch.\n",
    "    # The key of the dictionary is the placeholder node of the graph to be fed,\n",
    "    # and the value is the numpy array to feed to it.\n",
    "    feed_dict = {tf_train_dataset : batch_data, tf_train_labels : batch_labels}\n",
    "    _, l, predictions = session.run(\n",
    "      [optimizer, l2Loss, train_prediction], feed_dict=feed_dict)\n",
    "    if (step % 500 == 0):\n",
    "      print(\"Minibatch loss at step %d: %f\" % (step, l))\n",
    "      print(\"Minibatch accuracy: %.1f%%\" % accuracy(predictions, batch_labels))\n",
    "      print(\"Validation accuracy: %.1f%%\" % accuracy(\n",
    "        valid_prediction.eval(), valid_labels))\n",
    "  print(\"Test accuracy: %.1f%%\" % accuracy(test_prediction.eval(), test_labels))"
   ]
  },
  {
   "cell_type": "markdown",
   "metadata": {
    "colab_type": "text",
    "id": "-b1hTz3VWZjw"
   },
   "source": [
    "---\n",
    "Problem 4\n",
    "---------\n",
    "\n",
    "Try to get the best performance you can using a multi-layer model! The best reported test accuracy using a deep network is [97.1%](http://yaroslavvb.blogspot.com/2011/09/notmnist-dataset.html?showComment=1391023266211#c8758720086795711595).\n",
    "\n",
    "One avenue you can explore is to add multiple layers.\n",
    "\n",
    "Another one is to use learning rate decay:\n",
    "\n",
    "    global_step = tf.Variable(0)  # count the number of steps taken.\n",
    "    learning_rate = tf.train.exponential_decay(0.5, global_step, ...)\n",
    "    optimizer = tf.train.GradientDescentOptimizer(learning_rate).minimize(loss, global_step=global_step)\n",
    " \n",
    " ---\n"
   ]
  },
  {
   "cell_type": "code",
   "execution_count": 72,
   "metadata": {
    "collapsed": false
   },
   "outputs": [
    {
     "name": "stdout",
     "output_type": "stream",
     "text": [
      "Initialized\n",
      "Minibatch loss at step 0: 5.311243\n",
      "Minibatch accuracy: 17.5%\n",
      "Validation accuracy: 15.6%\n",
      "Minibatch loss at step 500: 3.670395\n",
      "Minibatch accuracy: 81.0%\n",
      "Validation accuracy: 81.3%\n",
      "Minibatch loss at step 1000: 3.379979\n",
      "Minibatch accuracy: 88.0%\n",
      "Validation accuracy: 82.8%\n",
      "Minibatch loss at step 1500: 3.252129\n",
      "Minibatch accuracy: 89.0%\n",
      "Validation accuracy: 83.7%\n",
      "Minibatch loss at step 2000: 3.314777\n",
      "Minibatch accuracy: 84.5%\n",
      "Validation accuracy: 84.2%\n",
      "Minibatch loss at step 2500: 3.181674\n",
      "Minibatch accuracy: 85.5%\n",
      "Validation accuracy: 84.6%\n",
      "Minibatch loss at step 3000: 3.158865\n",
      "Minibatch accuracy: 85.5%\n",
      "Validation accuracy: 84.8%\n",
      "Minibatch loss at step 3500: 2.970549\n",
      "Minibatch accuracy: 88.5%\n",
      "Validation accuracy: 85.2%\n",
      "Minibatch loss at step 4000: 3.098881\n",
      "Minibatch accuracy: 85.5%\n",
      "Validation accuracy: 85.4%\n",
      "Minibatch loss at step 4500: 2.924874\n",
      "Minibatch accuracy: 85.5%\n",
      "Validation accuracy: 85.6%\n",
      "Minibatch loss at step 5000: 2.795087\n",
      "Minibatch accuracy: 89.0%\n",
      "Validation accuracy: 85.7%\n",
      "Minibatch loss at step 5500: 2.820679\n",
      "Minibatch accuracy: 85.0%\n",
      "Validation accuracy: 85.9%\n",
      "Minibatch loss at step 6000: 2.733486\n",
      "Minibatch accuracy: 86.0%\n",
      "Validation accuracy: 86.2%\n",
      "Minibatch loss at step 6500: 2.627176\n",
      "Minibatch accuracy: 90.0%\n",
      "Validation accuracy: 86.2%\n",
      "Minibatch loss at step 7000: 2.596709\n",
      "Minibatch accuracy: 88.0%\n",
      "Validation accuracy: 86.3%\n",
      "Minibatch loss at step 7500: 2.567206\n",
      "Minibatch accuracy: 87.5%\n",
      "Validation accuracy: 86.5%\n",
      "Minibatch loss at step 8000: 2.415560\n",
      "Minibatch accuracy: 92.0%\n",
      "Validation accuracy: 86.5%\n",
      "Minibatch loss at step 8500: 2.371770\n",
      "Minibatch accuracy: 88.0%\n",
      "Validation accuracy: 86.8%\n",
      "Minibatch loss at step 9000: 2.457744\n",
      "Minibatch accuracy: 85.5%\n",
      "Validation accuracy: 86.7%\n",
      "Minibatch loss at step 9500: 2.318119\n",
      "Minibatch accuracy: 89.0%\n",
      "Validation accuracy: 86.9%\n",
      "Minibatch loss at step 10000: 2.289753\n",
      "Minibatch accuracy: 89.5%\n",
      "Validation accuracy: 86.9%\n",
      "Minibatch loss at step 10500: 2.328432\n",
      "Minibatch accuracy: 85.0%\n",
      "Validation accuracy: 87.2%\n",
      "Minibatch loss at step 11000: 2.208856\n",
      "Minibatch accuracy: 88.0%\n",
      "Validation accuracy: 87.2%\n",
      "Minibatch loss at step 11500: 2.147537\n",
      "Minibatch accuracy: 88.0%\n",
      "Validation accuracy: 87.4%\n",
      "Minibatch loss at step 12000: 2.059545\n",
      "Minibatch accuracy: 91.5%\n",
      "Validation accuracy: 87.4%\n",
      "Minibatch loss at step 12500: 2.011485\n",
      "Minibatch accuracy: 91.0%\n",
      "Validation accuracy: 87.6%\n",
      "Minibatch loss at step 13000: 2.012212\n",
      "Minibatch accuracy: 90.0%\n",
      "Validation accuracy: 87.6%\n",
      "Minibatch loss at step 13500: 1.944550\n",
      "Minibatch accuracy: 92.0%\n",
      "Validation accuracy: 87.7%\n",
      "Minibatch loss at step 14000: 1.968629\n",
      "Minibatch accuracy: 87.5%\n",
      "Validation accuracy: 87.8%\n",
      "Minibatch loss at step 14500: 1.933031\n",
      "Minibatch accuracy: 89.0%\n",
      "Validation accuracy: 87.8%\n",
      "Minibatch loss at step 15000: 1.868348\n",
      "Minibatch accuracy: 90.0%\n",
      "Validation accuracy: 87.9%\n",
      "Minibatch loss at step 15500: 1.910406\n",
      "Minibatch accuracy: 87.0%\n",
      "Validation accuracy: 88.0%\n",
      "Minibatch loss at step 16000: 2.001498\n",
      "Minibatch accuracy: 86.0%\n",
      "Validation accuracy: 88.0%\n",
      "Minibatch loss at step 16500: 1.820334\n",
      "Minibatch accuracy: 89.0%\n",
      "Validation accuracy: 88.1%\n",
      "Minibatch loss at step 17000: 1.749132\n",
      "Minibatch accuracy: 89.5%\n",
      "Validation accuracy: 88.1%\n",
      "Minibatch loss at step 17500: 1.872679\n",
      "Minibatch accuracy: 83.5%\n",
      "Validation accuracy: 88.3%\n",
      "Minibatch loss at step 18000: 1.702371\n",
      "Minibatch accuracy: 89.0%\n",
      "Validation accuracy: 88.2%\n",
      "Minibatch loss at step 18500: 1.724450\n",
      "Minibatch accuracy: 87.0%\n",
      "Validation accuracy: 88.5%\n",
      "Minibatch loss at step 19000: 1.545675\n",
      "Minibatch accuracy: 93.5%\n",
      "Validation accuracy: 88.4%\n",
      "Minibatch loss at step 19500: 1.611933\n",
      "Minibatch accuracy: 89.5%\n",
      "Validation accuracy: 88.5%\n",
      "Minibatch loss at step 20000: 1.534324\n",
      "Minibatch accuracy: 90.5%\n",
      "Validation accuracy: 88.4%\n",
      "Test accuracy: 94.4%\n"
     ]
    }
   ],
   "source": [
    "#Deep Neural Network Model\n",
    "batch_size = 200\n",
    "layer1_size = 28*28*2\n",
    "layer2_size = 28*28\n",
    "layer3_size = 28*28*0.25\n",
    "graph = tf.Graph()\n",
    "with graph.as_default():\n",
    "\n",
    "  # Input data. For the training data, we use a placeholder that will be fed\n",
    "  # at run time with a training minibatch.\n",
    "  tf_train_dataset = tf.placeholder(tf.float32,\n",
    "                                    shape=(batch_size, image_size * image_size))\n",
    "  tf_train_labels = tf.placeholder(tf.float32, shape=(batch_size, num_labels))\n",
    "  tf_valid_dataset = tf.constant(valid_dataset)\n",
    "  tf_test_dataset = tf.constant(test_dataset)\n",
    "  \n",
    "  # Variables.\n",
    "  weights1 = tf.get_variable('W1', shape=[image_size * image_size, layer1_size], initializer=tf.contrib.layers.xavier_initializer()) \n",
    "#tf.Variable(tf.truncated_normal([image_size * image_size, layer1_size]))\n",
    "  biases1 = tf.Variable(tf.zeros([layer1_size]))\n",
    "  logits1 = tf.matmul(tf_train_dataset, weights1) + biases1\n",
    "  relu1 = tf.nn.relu6(logits1)\n",
    "    \n",
    "  weights2 = tf.get_variable('W2', shape=[layer1_size, layer2_size], initializer=tf.contrib.layers.xavier_initializer()) \n",
    "  biases2 = tf.Variable(tf.zeros([layer2_size]))\n",
    "  logits2 = tf.matmul(relu1, weights2) + biases2\n",
    "  relu2 =tf.nn.relu6(logits2)\n",
    "    \n",
    "  weights3 = tf.get_variable('W3', shape=[layer2_size, layer3_size], initializer=tf.contrib.layers.xavier_initializer()) \n",
    "  biases3 = tf.Variable(tf.zeros([layer3_size]))\n",
    "  logits3 = tf.matmul(relu2, weights3) + biases3\n",
    "\n",
    "  relu3 =tf.nn.relu6(logits3)\n",
    "    \n",
    "  weights4 = tf.get_variable('W4', shape=[layer3_size, num_labels], initializer=tf.contrib.layers.xavier_initializer()) \n",
    "  biases4 = tf.Variable(tf.zeros([num_labels]))\n",
    "  logits4 = tf.matmul(relu3, weights4) + biases4\n",
    "\n",
    "  # Training computation.\n",
    "  loss1 = tf.reduce_mean(\n",
    "    tf.nn.softmax_cross_entropy_with_logits(logits4, tf_train_labels))\n",
    "  l2Loss = loss1 + ((tf.nn.l2_loss(weights1)+ tf.nn.l2_loss(weights2) + tf.nn.l2_loss(weights3) + tf.nn.l2_loss(weights4))/(2*batch_size))\n",
    "    \n",
    "    \n",
    "  # Optimizer.\n",
    "  optimizer = tf.train.GradientDescentOptimizer(0.01).minimize(l2Loss)\n",
    "  \n",
    "  # Predictions for the training, validation, and test data.\n",
    "  train_prediction = tf.nn.softmax(logits4)\n",
    "  valid_prediction = tf.nn.softmax(tf.matmul(tf.nn.relu(tf.matmul(tf.nn.relu(tf.matmul(tf.nn.relu(tf.matmul(tf_valid_dataset, weights1) + biases1), weights2) + biases2), weights3) + biases3),weights4) + biases4)\n",
    "  test_prediction = tf.nn.softmax(tf.matmul(tf.nn.relu(tf.matmul(tf.nn.relu(tf.matmul(tf.nn.relu(tf.matmul(tf_test_dataset, weights1) + biases1), weights2) + biases2), weights3) + biases3),weights4) + biases4)\n",
    "\n",
    "num_steps = 20001\n",
    "\n",
    "with tf.Session(graph=graph) as session:\n",
    "  tf.global_variables_initializer().run()\n",
    "  print(\"Initialized\")\n",
    "  for step in range(num_steps):\n",
    "    # Pick an offset within the training data, which has been randomized.\n",
    "    # Note: we could use better randomization across epochs.\n",
    "    offset = (step * batch_size) % (train_labels.shape[0] - batch_size)\n",
    "    # Generate a minibatch.\n",
    "    batch_data = train_dataset[offset:(offset + batch_size), :]\n",
    "    batch_labels = train_labels[offset:(offset + batch_size), :]\n",
    "    # Prepare a dictionary telling the session where to feed the minibatch.\n",
    "    # The key of the dictionary is the placeholder node of the graph to be fed,\n",
    "    # and the value is the numpy array to feed to it.\n",
    "    feed_dict = {tf_train_dataset : batch_data, tf_train_labels : batch_labels}\n",
    "    _, l, predictions = session.run(\n",
    "      [optimizer, l2Loss, train_prediction], feed_dict=feed_dict)\n",
    "    if (step % 500 == 0):\n",
    "      print(\"Minibatch loss at step %d: %f\" % (step, l))\n",
    "      print(\"Minibatch accuracy: %.1f%%\" % accuracy(predictions, batch_labels))\n",
    "      print(\"Validation accuracy: %.1f%%\" % accuracy(\n",
    "        valid_prediction.eval(), valid_labels))\n",
    "  print(\"Test accuracy: %.1f%%\" % accuracy(test_prediction.eval(), test_labels))"
   ]
  }
 ],
 "metadata": {
  "colab": {
   "default_view": {},
   "name": "3_regularization.ipynb",
   "provenance": [],
   "version": "0.3.2",
   "views": {}
  },
  "kernelspec": {
   "display_name": "Python [default]",
   "language": "python",
   "name": "python2"
  },
  "language_info": {
   "codemirror_mode": {
    "name": "ipython",
    "version": 2
   },
   "file_extension": ".py",
   "mimetype": "text/x-python",
   "name": "python",
   "nbconvert_exporter": "python",
   "pygments_lexer": "ipython2",
   "version": "2.7.12"
  }
 },
 "nbformat": 4,
 "nbformat_minor": 0
}
