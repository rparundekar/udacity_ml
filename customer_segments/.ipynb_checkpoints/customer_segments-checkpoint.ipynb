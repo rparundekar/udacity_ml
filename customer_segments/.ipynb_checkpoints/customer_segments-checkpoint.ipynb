{
 "cells": [
  {
   "cell_type": "markdown",
   "metadata": {},
   "source": [
    "# Machine Learning Engineer Nanodegree\n",
    "## Unsupervised Learning\n",
    "## Project: Creating Customer Segments"
   ]
  },
  {
   "cell_type": "markdown",
   "metadata": {},
   "source": [
    "Welcome to the third project of the Machine Learning Engineer Nanodegree! In this notebook, some template code has already been provided for you, and it will be your job to implement the additional functionality necessary to successfully complete this project. Sections that begin with **'Implementation'** in the header indicate that the following block of code will require additional functionality which you must provide. Instructions will be provided for each section and the specifics of the implementation are marked in the code block with a `'TODO'` statement. Please be sure to read the instructions carefully!\n",
    "\n",
    "In addition to implementing code, there will be questions that you must answer which relate to the project and your implementation. Each section where you will answer a question is preceded by a **'Question X'** header. Carefully read each question and provide thorough answers in the following text boxes that begin with **'Answer:'**. Your project submission will be evaluated based on your answers to each of the questions and the implementation you provide.  \n",
    "\n",
    ">**Note:** Code and Markdown cells can be executed using the **Shift + Enter** keyboard shortcut. In addition, Markdown cells can be edited by typically double-clicking the cell to enter edit mode."
   ]
  },
  {
   "cell_type": "markdown",
   "metadata": {},
   "source": [
    "## Getting Started\n",
    "\n",
    "In this project, you will analyze a dataset containing data on various customers' annual spending amounts (reported in *monetary units*) of diverse product categories for internal structure. One goal of this project is to best describe the variation in the different types of customers that a wholesale distributor interacts with. Doing so would equip the distributor with insight into how to best structure their delivery service to meet the needs of each customer.\n",
    "\n",
    "The dataset for this project can be found on the [UCI Machine Learning Repository](https://archive.ics.uci.edu/ml/datasets/Wholesale+customers). For the purposes of this project, the features `'Channel'` and `'Region'` will be excluded in the analysis — with focus instead on the six product categories recorded for customers.\n",
    "\n",
    "Run the code block below to load the wholesale customers dataset, along with a few of the necessary Python libraries required for this project. You will know the dataset loaded successfully if the size of the dataset is reported."
   ]
  },
  {
   "cell_type": "code",
   "execution_count": null,
   "metadata": {
    "collapsed": false
   },
   "outputs": [],
   "source": [
    "# Import libraries necessary for this project\n",
    "import numpy as np\n",
    "import pandas as pd\n",
    "from IPython.display import display # Allows the use of display() for DataFrames\n",
    "\n",
    "# Import supplementary visualizations code visuals.py\n",
    "import visuals as vs\n",
    "\n",
    "# Pretty display for notebooks\n",
    "%matplotlib inline\n",
    "\n",
    "# Load the wholesale customers dataset\n",
    "try:\n",
    "    data = pd.read_csv(\"customers.csv\")\n",
    "    data.drop(['Region', 'Channel'], axis = 1, inplace = True)\n",
    "    print \"Wholesale customers dataset has {} samples with {} features each.\".format(*data.shape)\n",
    "except:\n",
    "    print \"Dataset could not be loaded. Is the dataset missing?\"\n",
    "    \n",
    "#Wholesale customers dataset has 440 samples with 6 features each."
   ]
  },
  {
   "cell_type": "markdown",
   "metadata": {},
   "source": [
    "## Data Exploration\n",
    "In this section, you will begin exploring the data through visualizations and code to understand how each feature is related to the others. You will observe a statistical description of the dataset, consider the relevance of each feature, and select a few sample data points from the dataset which you will track through the course of this project.\n",
    "\n",
    "Run the code block below to observe a statistical description of the dataset. Note that the dataset is composed of six important product categories: **'Fresh'**, **'Milk'**, **'Grocery'**, **'Frozen'**, **'Detergents_Paper'**, and **'Delicatessen'**. Consider what each category represents in terms of products you could purchase."
   ]
  },
  {
   "cell_type": "code",
   "execution_count": null,
   "metadata": {
    "collapsed": false
   },
   "outputs": [],
   "source": [
    "# Display a description of the dataset\n",
    "display(data.describe())\n",
    "\n",
    "#               Fresh          Milk       Grocery        Frozen  \\\n",
    "#count     440.000000    440.000000    440.000000    440.000000   \n",
    "#mean    12000.297727   5796.265909   7951.277273   3071.931818   \n",
    "#std     12647.328865   7380.377175   9503.162829   4854.673333   \n",
    "#min         3.000000     55.000000      3.000000     25.000000   \n",
    "#25%      3127.750000   1533.000000   2153.000000    742.250000   \n",
    "#50%      8504.000000   3627.000000   4755.500000   1526.000000   \n",
    "#75%     16933.750000   7190.250000  10655.750000   3554.250000   \n",
    "#max    112151.000000  73498.000000  92780.000000  60869.000000   \n",
    "\n",
    "#        Detergents_Paper  Delicatessen  \n",
    "# count        440.000000    440.000000  \n",
    "# mean        2881.493182   1524.870455  \n",
    "# std         4767.854448   2820.105937  \n",
    "# min            3.000000      3.000000  \n",
    "# 25%          256.750000    408.250000  \n",
    "# 50%          816.500000    965.500000  \n",
    "# 75%         3922.000000   1820.250000  \n",
    "# max        40827.000000  47943.000000  "
   ]
  },
  {
   "cell_type": "markdown",
   "metadata": {},
   "source": [
    "### Implementation: Selecting Samples\n",
    "To get a better understanding of the customers and how their data will transform through the analysis, it would be best to select a few sample data points and explore them in more detail. In the code block below, add **three** indices of your choice to the `indices` list which will represent the customers to track. It is suggested to try different sets of samples until you obtain customers that vary significantly from one another."
   ]
  },
  {
   "cell_type": "code",
   "execution_count": null,
   "metadata": {
    "collapsed": false
   },
   "outputs": [],
   "source": [
    "# Select three indices of your choice you wish to sample from the dataset\n",
    "indices = [57, 207, 422]\n",
    "\n",
    "# Create a DataFrame of the chosen samples\n",
    "samples = pd.DataFrame(data.loc[indices], columns = data.keys()).reset_index(drop = True)\n",
    "print \"Chosen samples of wholesale customers dataset:\"\n",
    "display(samples)\n",
    "\n",
    "#   Fresh  Milk  Grocery  Frozen  Detergents_Paper  Delicatessen\n",
    "# 0   5417  9933    10487      38              7572          1282\n",
    "# 1   2541  4737     6089    2946              5316           120\n",
    "# 2  26400  1377     4172     830               948          1218"
   ]
  },
  {
   "cell_type": "markdown",
   "metadata": {},
   "source": [
    "### Question 1\n",
    "Consider the total purchase cost of each product category and the statistical description of the dataset above for your sample customers.  \n",
    "*What kind of establishment (customer) could each of the three samples you've chosen represent?*  \n",
    "**Hint:** Examples of establishments include places like markets, cafes, and retailers, among many others. Avoid using names for establishments, such as saying *\"McDonalds\"* when describing a sample customer as a restaurant."
   ]
  },
  {
   "cell_type": "markdown",
   "metadata": {},
   "source": [
    "**Answer:**\n",
    "\n",
    "0) This place seems to be buying below average quantity of fresh & frozen. But a significant above average of milk and about average of grocery & deli and non food related items like Detergents_Paper. Since these are very high compared to average, maybe this is a market?\n",
    "\n",
    "1) Only the detergents_paper quantity is significantly above average, and the rest are below average. May be this place also a market?\n",
    "\n",
    "2) Except for fresh produce, this place has below average use of the items. Maybe this is a restaurant."
   ]
  },
  {
   "cell_type": "markdown",
   "metadata": {},
   "source": [
    "### Implementation: Feature Relevance\n",
    "One interesting thought to consider is if one (or more) of the six product categories is actually relevant for understanding customer purchasing. That is to say, is it possible to determine whether customers purchasing some amount of one category of products will necessarily purchase some proportional amount of another category of products? We can make this determination quite easily by training a supervised regression learner on a subset of the data with one feature removed, and then score how well that model can predict the removed feature.\n",
    "\n",
    "In the code block below, you will need to implement the following:\n",
    " - Assign `new_data` a copy of the data by removing a feature of your choice using the `DataFrame.drop` function.\n",
    " - Use `sklearn.cross_validation.train_test_split` to split the dataset into training and testing sets.\n",
    "   - Use the removed feature as your target label. Set a `test_size` of `0.25` and set a `random_state`.\n",
    " - Import a decision tree regressor, set a `random_state`, and fit the learner to the training data.\n",
    " - Report the prediction score of the testing set using the regressor's `score` function."
   ]
  },
  {
   "cell_type": "code",
   "execution_count": null,
   "metadata": {
    "collapsed": false
   },
   "outputs": [],
   "source": [
    "# Make a copy of the DataFrame, using the 'drop' function to drop the given feature\n",
    "new_data = data.copy(deep=True)\n",
    "new_data.drop(['Detergents_Paper'], axis = 1, inplace = True);\n",
    "\n",
    "# Split the data into training and testing sets using the given feature as the target\n",
    "from sklearn.cross_validation import train_test_split\n",
    "X_train, X_test, y_train, y_test = train_test_split(new_data, data['Detergents_Paper'], test_size=0.2, random_state=0)\n",
    "\n",
    "# Create a decision tree regressor and fit it to the training set\n",
    "from sklearn.tree import DecisionTreeRegressor\n",
    "regressor = DecisionTreeRegressor(max_depth=5)\n",
    "regressor.fit(X_train, y_train)\n",
    "predicted=regressor.predict(X_test)\n",
    "#Report the score of the prediction using the testing set\n",
    "from sklearn.metrics import r2_score\n",
    "score = r2_score(y_test, predicted)\n",
    "print \"R^2 score with regression for selected column:\"\n",
    "display(score)\n",
    "\n",
    "# R^2 score with regression for selected column:\n",
    "# 0.74534898833911545"
   ]
  },
  {
   "cell_type": "markdown",
   "metadata": {},
   "source": [
    "### Question 2\n",
    "*Which feature did you attempt to predict? What was the reported prediction score? Is this feature is necessary for identifying customers' spending habits?*  \n",
    "**Hint:** The coefficient of determination, `R^2`, is scored between 0 and 1, with 1 being a perfect fit. A negative `R^2` implies the model fails to fit the data."
   ]
  },
  {
   "cell_type": "markdown",
   "metadata": {},
   "source": [
    "**Answer:**\n",
    "\n",
    "Initially, my hypothesis was that the Detergents_Paper field might be dependent on the others. I thought that since paper products are only used for serving what food is produced, and the food & quantity produced is based on the quantity of the raw materials i.e. the other category and the type of place). \n",
    "\n",
    "The R^2 for that feature was indeed high: 0.74534898833911545. I verified that this was the maximum with the test set of size 0.2, and using a leave one out stragtegy for all columns."
   ]
  },
  {
   "cell_type": "markdown",
   "metadata": {},
   "source": [
    "### Visualize Feature Distributions\n",
    "To get a better understanding of the dataset, we can construct a scatter matrix of each of the six product features present in the data. If you found that the feature you attempted to predict above is relevant for identifying a specific customer, then the scatter matrix below may not show any correlation between that feature and the others. Conversely, if you believe that feature is not relevant for identifying a specific customer, the scatter matrix might show a correlation between that feature and another feature in the data. Run the code block below to produce a scatter matrix."
   ]
  },
  {
   "cell_type": "code",
   "execution_count": null,
   "metadata": {
    "collapsed": false
   },
   "outputs": [],
   "source": [
    "# Produce a scatter matrix for each pair of features in the data\n",
    "pd.scatter_matrix(data, alpha = 0.3, figsize = (14,8), diagonal = 'kde');"
   ]
  },
  {
   "cell_type": "markdown",
   "metadata": {
    "collapsed": true
   },
   "source": [
    "![Scatter Matrix](scatter.png)"
   ]
  },
  {
   "cell_type": "markdown",
   "metadata": {},
   "source": [
    "### Question 3\n",
    "*Are there any pairs of features which exhibit some degree of correlation? Does this confirm or deny your suspicions about the relevance of the feature you attempted to predict? How is the data for those features distributed?*  \n",
    "**Hint:** Is the data normally distributed? Where do most of the data points lie? "
   ]
  },
  {
   "cell_type": "markdown",
   "metadata": {},
   "source": [
    "**Answer:**\n",
    "Detergent_Paper and Groceries seem corellated based on somewhat linear nature of their scatter plots. That is the points in the scatter plot are distributed somewhat around a line (but more at the lower side). Yes, this confirms my hypothesis of Detergent_Paper being (somewhat) dependent. There is also a very loose dependency between Milk & Detergent_Paper. \n",
    "\n",
    "The data for both these features is distributed to wards the lower side. I would call it a skewed distribution and not a normal distribution."
   ]
  },
  {
   "cell_type": "markdown",
   "metadata": {},
   "source": [
    "## Data Preprocessing\n",
    "In this section, you will preprocess the data to create a better representation of customers by performing a scaling on the data and detecting (and optionally removing) outliers. Preprocessing data is often times a critical step in assuring that results you obtain from your analysis are significant and meaningful."
   ]
  },
  {
   "cell_type": "markdown",
   "metadata": {},
   "source": [
    "### Implementation: Feature Scaling\n",
    "If data is not normally distributed, especially if the mean and median vary significantly (indicating a large skew), it is most [often appropriate](http://econbrowser.com/archives/2014/02/use-of-logarithms-in-economics) to apply a non-linear scaling — particularly for financial data. One way to achieve this scaling is by using a [Box-Cox test](http://scipy.github.io/devdocs/generated/scipy.stats.boxcox.html), which calculates the best power transformation of the data that reduces skewness. A simpler approach which can work in most cases would be applying the natural logarithm.\n",
    "\n",
    "In the code block below, you will need to implement the following:\n",
    " - Assign a copy of the data to `log_data` after applying logarithmic scaling. Use the `np.log` function for this.\n",
    " - Assign a copy of the sample data to `log_samples` after applying logarithmic scaling. Again, use `np.log`."
   ]
  },
  {
   "cell_type": "code",
   "execution_count": null,
   "metadata": {
    "collapsed": false
   },
   "outputs": [],
   "source": [
    "# Scale the data using the natural logarithm\n",
    "log_data = data.copy()\n",
    "log_data=np.log(log_data)\n",
    "\n",
    "# Scale the sample data using the natural logarithm\n",
    "log_samples = samples.copy()\n",
    "log_samples = np.log(log_samples)\n",
    "\n",
    "# Produce a scatter matrix for each pair of newly-transformed features\n",
    "pd.scatter_matrix(log_data, alpha = 0.3, figsize = (14,8), diagonal = 'kde');"
   ]
  },
  {
   "cell_type": "markdown",
   "metadata": {},
   "source": [
    "![Scatter Matrix](scatter2.png)"
   ]
  },
  {
   "cell_type": "markdown",
   "metadata": {},
   "source": [
    "### Observation\n",
    "After applying a natural logarithm scaling to the data, the distribution of each feature should appear much more normal. For any pairs of features you may have identified earlier as being correlated, observe here whether that correlation is still present (and whether it is now stronger or weaker than before).\n",
    "\n",
    "Run the code below to see how the sample data has changed after having the natural logarithm applied to it."
   ]
  },
  {
   "cell_type": "code",
   "execution_count": null,
   "metadata": {
    "collapsed": false
   },
   "outputs": [],
   "source": [
    "#Yes, we can see the co-relation between Detergents_Paper & Grocery more prominantly here.\n",
    "#Actually, there seems to be some dependency in the three columsn: Milk, Grocery, Detergents_Paper\n",
    "\n",
    "# Display the log-transformed sample data\n",
    "display(log_samples)\n",
    "\n",
    "#        Fresh      Milk   Grocery    Frozen  Detergents_Paper  Delicatessen\n",
    "# 0   8.597297  9.203618  9.257892  3.637586          8.932213      7.156177\n",
    "# 1   7.840313  8.463159  8.714239  7.988204          8.578476      4.787492\n",
    "# 2  10.181119  7.227662  8.336151  6.721426          6.854355      7.104965"
   ]
  },
  {
   "cell_type": "markdown",
   "metadata": {},
   "source": [
    "### Implementation: Outlier Detection\n",
    "Detecting outliers in the data is extremely important in the data preprocessing step of any analysis. The presence of outliers can often skew results which take into consideration these data points. There are many \"rules of thumb\" for what constitutes an outlier in a dataset. Here, we will use [Tukey's Method for identfying outliers](http://datapigtechnologies.com/blog/index.php/highlighting-outliers-in-your-data-with-the-tukey-method/): An *outlier step* is calculated as 1.5 times the interquartile range (IQR). A data point with a feature that is beyond an outlier step outside of the IQR for that feature is considered abnormal.\n",
    "\n",
    "In the code block below, you will need to implement the following:\n",
    " - Assign the value of the 25th percentile for the given feature to `Q1`. Use `np.percentile` for this.\n",
    " - Assign the value of the 75th percentile for the given feature to `Q3`. Again, use `np.percentile`.\n",
    " - Assign the calculation of an outlier step for the given feature to `step`.\n",
    " - Optionally remove data points from the dataset by adding indices to the `outliers` list.\n",
    "\n",
    "**NOTE:** If you choose to remove any outliers, ensure that the sample data does not contain any of these points!  \n",
    "Once you have performed this implementation, the dataset will be stored in the variable `good_data`."
   ]
  },
  {
   "cell_type": "code",
   "execution_count": null,
   "metadata": {
    "collapsed": false
   },
   "outputs": [],
   "source": [
    "\n",
    "# For each feature find the data points with extreme high or low values\n",
    "for feature in log_data.keys():\n",
    "    \n",
    "    # Calculate Q1 (25th percentile of the data) for the given feature\n",
    "    Q1 = np.percentile(log_data[feature],25)\n",
    "    \n",
    "    # Calculate Q3 (75th percentile of the data) for the given feature\n",
    "    Q3 = np.percentile(log_data[feature],75)\n",
    "    \n",
    "    # Use the interquartile range to calculate an outlier step (1.5 times the interquartile range)\n",
    "    IQR = Q3-Q1\n",
    "    step = 1.5 * IQR\n",
    "    \n",
    "    # Display the outliers\n",
    "    print \"Data points considered outliers for the feature '{}':\".format(feature)\n",
    "    display(log_data[~((log_data[feature] >= Q1 - step) & (log_data[feature] <= Q3 + step))])\n",
    "    \n",
    "# Outliers for Fresh:\n",
    "#         Fresh       Milk    Grocery    Frozen  Detergents_Paper  Delicatessen\n",
    "# 65   4.442651   9.950323  10.732651  3.583519         10.095388      7.260523\n",
    "# 66   2.197225   7.335634   8.911530  5.164786          8.151333      3.295837\n",
    "# 81   5.389072   9.163249   9.575192  5.645447          8.964184      5.049856\n",
    "# 95   1.098612   7.979339   8.740657  6.086775          5.407172      6.563856\n",
    "# 96   3.135494   7.869402   9.001839  4.976734          8.262043      5.379897\n",
    "# 128  4.941642   9.087834   8.248791  4.955827          6.967909      1.098612\n",
    "# 171  5.298317  10.160530   9.894245  6.478510          9.079434      8.740337\n",
    "# 193  5.192957   8.156223   9.917982  6.865891          8.633731      6.501290\n",
    "# 218  2.890372   8.923191   9.629380  7.158514          8.475746      8.759669\n",
    "# 304  5.081404   8.917311  10.117510  6.424869          9.374413      7.787382\n",
    "# 305  5.493061   9.468001   9.088399  6.683361          8.271037      5.351858\n",
    "# 338  1.098612   5.808142   8.856661  9.655090          2.708050      6.309918\n",
    "# 353  4.762174   8.742574   9.961898  5.429346          9.069007      7.013016\n",
    "# 355  5.247024   6.588926   7.606885  5.501258          5.214936      4.844187\n",
    "# 357  3.610918   7.150701  10.011086  4.919981          8.816853      4.700480\n",
    "# 412  4.574711   8.190077   9.425452  4.584967          7.996317      4.127134\n",
    "\n",
    "# Outliers for Milk:\n",
    "#          Fresh       Milk    Grocery    Frozen  Detergents_Paper  Delicatessen\n",
    "# 86   10.039983  11.205013  10.377047  6.894670          9.906981      6.805723\n",
    "# 98    6.220590   4.718499   6.656727  6.796824          4.025352      4.882802\n",
    "# 154   6.432940   4.007333   4.919981  4.317488          1.945910      2.079442\n",
    "# 356  10.029503   4.897840   5.384495  8.057377          2.197225      6.306275\n",
    "\n",
    "# Outliers for Grocery:\n",
    "#        Fresh      Milk   Grocery    Frozen  Detergents_Paper  Delicatessen\n",
    "#75   9.923192  7.036148  1.098612  8.390949          1.098612      6.882437\n",
    "#154  6.432940  4.007333  4.919981  4.317488          1.945910      2.079442\n",
    "\n",
    "# Outliers for Frozen:\n",
    "#          Fresh      Milk    Grocery     Frozen  Detergents_Paper  Delicatessen\n",
    "# 38    8.431853  9.663261   9.723703   3.496508          8.847360      6.070738\n",
    "# 57    8.597297  9.203618   9.257892   3.637586          8.932213      7.156177\n",
    "# 65    4.442651  9.950323  10.732651   3.583519         10.095388      7.260523\n",
    "# 145  10.000569  9.034080  10.457143   3.737670          9.440738      8.396155\n",
    "# 175   7.759187  8.967632   9.382106   3.951244          8.341887      7.436617\n",
    "# 264   6.978214  9.177714   9.645041   4.110874          8.696176      7.142827\n",
    "# 325  10.395650  9.728181   9.519735  11.016479          7.148346      8.632128\n",
    "# 420   8.402007  8.569026   9.490015   3.218876          8.827321      7.239215\n",
    "# 429   9.060331  7.467371   8.183118   3.850148          4.430817      7.824446\n",
    "# 439   7.932721  7.437206   7.828038   4.174387          6.167516      3.951244\n",
    "\n",
    "# Outliers for Detergents_Paper\n",
    "#         Fresh      Milk   Grocery    Frozen  Detergents_Paper  Delicatessen\n",
    "# 75   9.923192  7.036148  1.098612  8.390949          1.098612      6.882437\n",
    "# 161  9.428190  6.291569  5.645447  6.995766          1.098612      7.711101\n",
    "\n",
    "# Outliers for Delicatessen\n",
    "#       Fresh       Milk    Grocery     Frozen  Detergents_Paper  \\\n",
    "# 66    2.197225   7.335634   8.911530   5.164786          8.151333   \n",
    "# 109   7.248504   9.724899  10.274568   6.511745          6.728629   \n",
    "# 128   4.941642   9.087834   8.248791   4.955827          6.967909   \n",
    "# 137   8.034955   8.997147   9.021840   6.493754          6.580639   \n",
    "# 142  10.519646   8.875147   9.018332   8.004700          2.995732   \n",
    "# 154   6.432940   4.007333   4.919981   4.317488          1.945910   \n",
    "# 183  10.514529  10.690808   9.911952  10.505999          5.476464   \n",
    "# 184   5.789960   6.822197   8.457443   4.304065          5.811141   \n",
    "# 187   7.798933   8.987447   9.192075   8.743372          8.148735   \n",
    "# 203   6.368187   6.529419   7.703459   6.150603          6.860664   \n",
    "# 233   6.871091   8.513988   8.106515   6.842683          6.013715   \n",
    "# 285  10.602965   6.461468   8.188689   6.948897          6.077642   \n",
    "# 289  10.663966   5.655992   6.154858   7.235619          3.465736   \n",
    "# 343   7.431892   8.848509  10.177932   7.283448          9.646593   \n",
    "\n",
    "#      Delicatessen  \n",
    "# 66       3.295837  \n",
    "# 109      1.098612  \n",
    "# 128      1.098612  \n",
    "# 137      3.583519  \n",
    "# 142      1.098612  \n",
    "# 154      2.079442  \n",
    "# 183     10.777768  \n",
    "# 184      2.397895  \n",
    "# 187      1.098612  \n",
    "# 203      2.890372  \n",
    "# 233      1.945910  \n",
    "# 285      2.890372  \n",
    "# 289      3.091042  \n",
    "# 343      3.610918  \n",
    "\n",
    "# OPTIONAL: Select the indices for data points you wish to remove\n",
    "outliers  = [38,57,65,66,75,81,86,95,96,98,109,128,137,142,145,154,161,171,175,183,184,187,193,203,218,233,264,285,289,304,305,325,338,343,353,355,356,357,412,420,429,439]\n",
    "\n",
    "# Remove the outliers, if any were specified\n",
    "good_data = log_data.drop(log_data.index[outliers]).reset_index(drop = True)"
   ]
  },
  {
   "cell_type": "markdown",
   "metadata": {
    "collapsed": false
   },
   "source": [
    "### Question 4\n",
    "*Are there any data points considered outliers for more than one feature based on the definition above? Should these data points be removed from the dataset? If any data points were added to the `outliers` list to be removed, explain why.* "
   ]
  },
  {
   "cell_type": "markdown",
   "metadata": {},
   "source": [
    "**Answer:**\n",
    "\n",
    "Points 65,66,75,128,154 are considered outliers for more than one features. Yes, these points should be definitely removed from dataset.\n",
    "\n",
    "I added all outliers detected above to the outliers list. This was because an outlier in 1 dimension is still going to be very far away for a clustering alggorithm that uses distance metric (without feature deenedency). For example, consider 3 points in 2D (x,y) space (1,1.5) (1.5, 1.75) & (1.5, 20). The third point is an outlier & its euclidean distance from the first two points is large even if the x value is very much near the other two points' x value.\n",
    "\n"
   ]
  },
  {
   "cell_type": "markdown",
   "metadata": {},
   "source": [
    "## Feature Transformation\n",
    "In this section you will use principal component analysis (PCA) to draw conclusions about the underlying structure of the wholesale customer data. Since using PCA on a dataset calculates the dimensions which best maximize variance, we will find which compound combinations of features best describe customers."
   ]
  },
  {
   "cell_type": "markdown",
   "metadata": {
    "collapsed": false
   },
   "source": [
    "### Implementation: PCA\n",
    "\n",
    "Now that the data has been scaled to a more normal distribution and has had any necessary outliers removed, we can now apply PCA to the `good_data` to discover which dimensions about the data best maximize the variance of features involved. In addition to finding these dimensions, PCA will also report the *explained variance ratio* of each dimension — how much variance within the data is explained by that dimension alone. Note that a component (dimension) from PCA can be considered a new \"feature\" of the space, however it is a composition of the original features present in the data.\n",
    "\n",
    "In the code block below, you will need to implement the following:\n",
    " - Import `sklearn.decomposition.PCA` and assign the results of fitting PCA in six dimensions with `good_data` to `pca`.\n",
    " - Apply a PCA transformation of the sample log-data `log_samples` using `pca.transform`, and assign the results to `pca_samples`."
   ]
  },
  {
   "cell_type": "code",
   "execution_count": null,
   "metadata": {
    "collapsed": false
   },
   "outputs": [],
   "source": [
    "# Apply PCA by fitting the good data with the same number of dimensions as features\n",
    "from sklearn.decomposition import PCA\n",
    "pca = PCA(n_components=6)\n",
    "pca.fit(good_data)\n",
    "\n",
    "# Transform the sample log-data using the PCA fit above\n",
    "pca_samples = pca.transform(log_samples)\n",
    "\n",
    "# Generate PCA results plot\n",
    "pca_results = vs.pca_results(good_data, pca)"
   ]
  },
  {
   "cell_type": "markdown",
   "metadata": {},
   "source": [
    "![PCA](pca.png)"
   ]
  },
  {
   "cell_type": "markdown",
   "metadata": {
    "collapsed": false
   },
   "source": [
    "### Question 5\n",
    "*How much variance in the data is explained* ***in total*** *by the first and second principal component? What about the first four principal components? Using the visualization provided above, discuss what the first four dimensions best represent in terms of customer spending.*  \n",
    "**Hint:** A positive increase in a specific dimension corresponds with an *increase* of the *positive-weighted* features and a *decrease* of the *negative-weighted* features. The rate of increase or decrease is based on the indivdual feature weights."
   ]
  },
  {
   "cell_type": "markdown",
   "metadata": {},
   "source": [
    "**Answer:**\n",
    "\n",
    "1) Total variance explained by first & second principal component 0.4993+0.2259=0.7252 <br/>\n",
    "2) The total varience of the first four principal components is 0.4993+0.2259+0.1049+0.0978 = 0.9279 <br/>\n",
    "3) The top four dimensions are as follows:<br/>\n",
    "    a) Dimension 1: is positively affected by Milk, Grocery & Detergents paper. There is little positive influence of Deli, & little negative influence of Fresh & frozen. This principal component is based on our earlier observation that Milk Grocery & Detergent_Paper are co-related.<br/>\n",
    "    b) Dimension 2: Fresh, Frozen & Deli affect the next dimension positively. Milk & Groceries have little positive effect & Detergents_Paper have small negative effect. <br/>\n",
    "    c) Dimension 3: Fresh & Detergents_Paper positively affect this dimension & Milk, Frozen & Deli negatively affect the dimension in increasing power.<br/>\n",
    "    d) Dimension 4: Is positively affected by Detergents_Paper & Frozen & negatively affected by the remaining features. The negative effect of Deli feature is the maximum.<br/>"
   ]
  },
  {
   "cell_type": "markdown",
   "metadata": {},
   "source": [
    "### Observation\n",
    "Run the code below to see how the log-transformed sample data has changed after having a PCA transformation applied to it in six dimensions. Observe the numerical value for the first four dimensions of the sample points. Consider if this is consistent with your initial interpretation of the sample points."
   ]
  },
  {
   "cell_type": "code",
   "execution_count": null,
   "metadata": {
    "collapsed": false
   },
   "outputs": [],
   "source": [
    "# Display sample log-data after having a PCA transformation applied\n",
    "display(pd.DataFrame(np.round(pca_samples, 4), columns = pca_results.index.values))\n",
    "\n",
    "#    Dimension 1  Dimension 2  Dimension 3  Dimension 4  \n",
    "# 0       3.0265      -2.2869       0.9229      -2.3395  \n",
    "# 1       1.3513      -1.2332       0.5019       2.2841  \n",
    "# 2      -0.3368       0.3125       1.1060      -0.8532  "
   ]
  },
  {
   "cell_type": "markdown",
   "metadata": {},
   "source": [
    "### Implementation: Dimensionality Reduction\n",
    "When using principal component analysis, one of the main goals is to reduce the dimensionality of the data — in effect, reducing the complexity of the problem. Dimensionality reduction comes at a cost: Fewer dimensions used implies less of the total variance in the data is being explained. Because of this, the *cumulative explained variance ratio* is extremely important for knowing how many dimensions are necessary for the problem. Additionally, if a signifiant amount of variance is explained by only two or three dimensions, the reduced data can be visualized afterwards.\n",
    "\n",
    "In the code block below, you will need to implement the following:\n",
    " - Assign the results of fitting PCA in two dimensions with `good_data` to `pca`.\n",
    " - Apply a PCA transformation of `good_data` using `pca.transform`, and assign the results to `reduced_data`.\n",
    " - Apply a PCA transformation of the sample log-data `log_samples` using `pca.transform`, and assign the results to `pca_samples`."
   ]
  },
  {
   "cell_type": "code",
   "execution_count": null,
   "metadata": {
    "collapsed": false
   },
   "outputs": [],
   "source": [
    "# Apply PCA by fitting the good data with only two dimensions\n",
    "pca = PCA(n_components=2)\n",
    "pca.fit(good_data)\n",
    "\n",
    "# Transform the good data using the PCA fit above\n",
    "reduced_data = pca.transform(good_data)\n",
    "\n",
    "# Transform the sample log-data using the PCA fit above\n",
    "pca_samples = pca.transform(log_samples)\n",
    "\n",
    "# Create a DataFrame for the reduced data\n",
    "reduced_data = pd.DataFrame(reduced_data, columns = ['Dimension 1', 'Dimension 2'])"
   ]
  },
  {
   "cell_type": "markdown",
   "metadata": {},
   "source": [
    "### Observation\n",
    "Run the code below to see how the log-transformed sample data has changed after having a PCA transformation applied to it using only two dimensions. Observe how the values for the first two dimensions remains unchanged when compared to a PCA transformation in six dimensions."
   ]
  },
  {
   "cell_type": "code",
   "execution_count": null,
   "metadata": {
    "collapsed": false
   },
   "outputs": [],
   "source": [
    "# Display sample log-data after applying PCA transformation in two dimensions\n",
    "display(pd.DataFrame(np.round(pca_samples, 4), columns = ['Dimension 1', 'Dimension 2']))\n",
    "\n",
    "#    Dimension 1  Dimension 2\n",
    "# 0       3.0265      -2.2869\n",
    "# 1       1.3513      -1.2332\n",
    "# 2      -0.3368       0.3125"
   ]
  },
  {
   "cell_type": "markdown",
   "metadata": {},
   "source": [
    "## Visualizing a Biplot\n",
    "A biplot is a scatterplot where each data point is represented by its scores along the principal components. The axes are the principal components (in this case `Dimension 1` and `Dimension 2`). In addition, the biplot shows the projection of the original features along the components. A biplot can help us interpret the reduced dimensions of the data, and discover relationships between the principal components and original features.\n",
    "\n",
    "Run the code cell below to produce a biplot of the reduced-dimension data."
   ]
  },
  {
   "cell_type": "code",
   "execution_count": null,
   "metadata": {
    "collapsed": true
   },
   "outputs": [],
   "source": [
    "# Create a biplot\n",
    "vs.biplot(good_data, reduced_data, pca)"
   ]
  },
  {
   "cell_type": "markdown",
   "metadata": {},
   "source": [
    "![Biplot](biplot.png)"
   ]
  },
  {
   "cell_type": "markdown",
   "metadata": {},
   "source": [
    "### Observation\n",
    "\n",
    "Once we have the original feature projections (in red), it is easier to interpret the relative position of each data point in the scatterplot. For instance, a point the lower right corner of the figure will likely correspond to a customer that spends a lot on `'Milk'`, `'Grocery'` and `'Detergents_Paper'`, but not so much on the other product categories. \n",
    "\n",
    "From the biplot, which of the original features are most strongly correlated with the first component? What about those that are associated with the second component? Do these observations agree with the pca_results plot you obtained earlier?\n",
    "\n",
    "### Answer\n",
    "`'Milk'`, `'Grocery'` and `'Detergents_Paper'` are strongly correlated with the first component. `'Fresh'`, `'Frozen'` and `'Delicatassen'` are co-related with the second component. The correlation of `'Fresh'`, `'Frozen'` is higher than that of `'Delicatassen'`"
   ]
  },
  {
   "cell_type": "markdown",
   "metadata": {},
   "source": [
    "## Clustering\n",
    "\n",
    "In this section, you will choose to use either a K-Means clustering algorithm or a Gaussian Mixture Model clustering algorithm to identify the various customer segments hidden in the data. You will then recover specific data points from the clusters to understand their significance by transforming them back into their original dimension and scale. "
   ]
  },
  {
   "cell_type": "markdown",
   "metadata": {},
   "source": [
    "### Question 6\n",
    "*What are the advantages to using a K-Means clustering algorithm? What are the advantages to using a Gaussian Mixture Model clustering algorithm? Given your observations about the wholesale customer data so far, which of the two algorithms will you use and why?*"
   ]
  },
  {
   "cell_type": "markdown",
   "metadata": {},
   "source": [
    "**Answer:**\n",
    "\n",
    "Advantages of K-means: \n",
    "- Allows for definite cluster boundaries. \n",
    "- Simple & Fast because of linear simplicity.\n",
    "- Works well on circular cluster.\n",
    "- Balanced cluster sizes (size in terms of shape & not the number of instances in cluster)\n",
    "\n",
    "Advantages of Gaussian Mixture Model:\n",
    "- Allows for soft cluster boundaries. Clusters can be overlapping & one instance may belong to different clusters with different degrees of membership (based on probability)\n",
    "- The shapes of the cluster can be elongated and rotated (as opposed to circular on k-means)\n",
    "\n",
    "Choice of the algorithm:\n",
    "In the biplot visualization, we see two clusters with normal distribution. This is visible because of a curve like-separator near dimension 1 = 0.8-ish. The clusters also have dense centers and the distribution thins out as you move away. So we use GMM Clustering.\n"
   ]
  },
  {
   "cell_type": "markdown",
   "metadata": {},
   "source": [
    "### Implementation: Creating Clusters\n",
    "Depending on the problem, the number of clusters that you expect to be in the data may already be known. When the number of clusters is not known *a priori*, there is no guarantee that a given number of clusters best segments the data, since it is unclear what structure exists in the data — if any. However, we can quantify the \"goodness\" of a clustering by calculating each data point's *silhouette coefficient*. The [silhouette coefficient](http://scikit-learn.org/stable/modules/generated/sklearn.metrics.silhouette_score.html) for a data point measures how similar it is to its assigned cluster from -1 (dissimilar) to 1 (similar). Calculating the *mean* silhouette coefficient provides for a simple scoring method of a given clustering.\n",
    "\n",
    "In the code block below, you will need to implement the following:\n",
    " - Fit a clustering algorithm to the `reduced_data` and assign it to `clusterer`.\n",
    " - Predict the cluster for each data point in `reduced_data` using `clusterer.predict` and assign them to `preds`.\n",
    " - Find the cluster centers using the algorithm's respective attribute and assign them to `centers`.\n",
    " - Predict the cluster for each sample data point in `pca_samples` and assign them `sample_preds`.\n",
    " - Import `sklearn.metrics.silhouette_score` and calculate the silhouette score of `reduced_data` against `preds`.\n",
    "   - Assign the silhouette score to `score` and print the result."
   ]
  },
  {
   "cell_type": "code",
   "execution_count": null,
   "metadata": {
    "collapsed": false
   },
   "outputs": [],
   "source": [
    "from sklearn import mixture\n",
    "from sklearn.metrics import silhouette_score;\n",
    "\n",
    "for n in range(2,8):\n",
    "    # Apply your clustering algorithm of choice to the reduced data\n",
    "    clusterer = mixture.GMM(n_components=n, covariance_type='full')\n",
    "    clusterer.fit(reduced_data)\n",
    "    \n",
    "    # Predict the cluster for each data point\n",
    "    preds = clusterer.predict(reduced_data)\n",
    "\n",
    "    # Find the cluster centers\n",
    "    centers = clusterer.means_\n",
    "\n",
    "    # Predict the cluster for each transformed sample data point\n",
    "    sample_preds = clusterer.predict(pca_samples)\n",
    "\n",
    "    # Calculate the mean silhouette coefficient for the number of clusters chosen\n",
    "    score = silhouette_score(reduced_data, preds, metric='euclidean')\n",
    "\n",
    "    print \"The score for cluster of size {} is : {}\".format(n, score)\n",
    "\n",
    "#--------Selecting 2 clusters-------------------\n",
    "# Apply your clustering algorithm of choice to the reduced data\n",
    "clusterer = mixture.GMM(n_components=2, covariance_type='full')\n",
    "clusterer.fit(reduced_data)\n",
    "    \n",
    "# Predict the cluster for each data point\n",
    "preds = clusterer.predict(reduced_data)\n",
    "\n",
    "# Find the cluster centers\n",
    "centers = clusterer.means_\n",
    "\n",
    "# Predict the cluster for each transformed sample data point\n",
    "sample_preds = clusterer.predict(pca_samples)\n"
   ]
  },
  {
   "cell_type": "markdown",
   "metadata": {},
   "source": [
    "### Question 7\n",
    "*Report the silhouette score for several cluster numbers you tried. Of these, which number of clusters has the best silhouette score?* "
   ]
  },
  {
   "cell_type": "markdown",
   "metadata": {},
   "source": [
    "**Answer:**\n",
    "\n",
    "The score for cluster of size 2 is : 0.443759414328\n",
    "The score for cluster of size 3 is : 0.378174473718\n",
    "The score for cluster of size 4 is : 0.268635007551\n",
    "The score for cluster of size 5 is : 0.281325785921\n",
    "The score for cluster of size 6 is : 0.254911812455\n",
    "The score for cluster of size 7 is : 0.218556902433\n",
    "\n",
    "We select 2 clusters as it has the maximum score."
   ]
  },
  {
   "cell_type": "markdown",
   "metadata": {},
   "source": [
    "### Cluster Visualization\n",
    "Once you've chosen the optimal number of clusters for your clustering algorithm using the scoring metric above, you can now visualize the results by executing the code block below. Note that, for experimentation purposes, you are welcome to adjust the number of clusters for your clustering algorithm to see various visualizations. The final visualization provided should, however, correspond with the optimal number of clusters. "
   ]
  },
  {
   "cell_type": "code",
   "execution_count": null,
   "metadata": {
    "collapsed": false
   },
   "outputs": [],
   "source": [
    "# Display the results of the clustering from implementation\n",
    "vs.cluster_results(reduced_data, preds, centers, pca_samples)"
   ]
  },
  {
   "cell_type": "markdown",
   "metadata": {},
   "source": [
    "![Clusters](clusters.png)"
   ]
  },
  {
   "cell_type": "markdown",
   "metadata": {},
   "source": [
    "### Implementation: Data Recovery\n",
    "Each cluster present in the visualization above has a central point. These centers (or means) are not specifically data points from the data, but rather the *averages* of all the data points predicted in the respective clusters. For the problem of creating customer segments, a cluster's center point corresponds to *the average customer of that segment*. Since the data is currently reduced in dimension and scaled by a logarithm, we can recover the representative customer spending from these data points by applying the inverse transformations.\n",
    "\n",
    "In the code block below, you will need to implement the following:\n",
    " - Apply the inverse transform to `centers` using `pca.inverse_transform` and assign the new centers to `log_centers`.\n",
    " - Apply the inverse function of `np.log` to `log_centers` using `np.exp` and assign the true centers to `true_centers`.\n"
   ]
  },
  {
   "cell_type": "code",
   "execution_count": null,
   "metadata": {
    "collapsed": false
   },
   "outputs": [],
   "source": [
    "# Inverse transform the centers\n",
    "log_centers = pca.inverse_transform(centers)\n",
    "\n",
    "# Exponentiate the centers\n",
    "true_centers = np.exp(log_centers)\n",
    "\n",
    "# Display the true centers\n",
    "segments = ['Segment {}'.format(i) for i in range(0,len(centers))]\n",
    "true_centers = pd.DataFrame(np.round(true_centers), columns = data.keys())\n",
    "true_centers.index = segments\n",
    "display(true_centers)\n",
    "\n",
    "#             Fresh    Milk  Grocery  Frozen  Detergents_Paper  Delicatessen\n",
    "# Segment 0  5525.0  6843.0  10029.0  1154.0            3525.0        1073.0\n",
    "# Segment 1  9658.0  1955.0   2467.0  2250.0             308.0         785.0"
   ]
  },
  {
   "cell_type": "markdown",
   "metadata": {
    "collapsed": false
   },
   "source": [
    "### Question 8\n",
    "Consider the total purchase cost of each product category for the representative data points above, and reference the statistical description of the dataset at the beginning of this project. *What set of establishments could each of the customer segments represent?*  \n",
    "**Hint:** A customer who is assigned to `'Cluster X'` should best identify with the establishments represented by the feature set of `'Segment X'`."
   ]
  },
  {
   "cell_type": "markdown",
   "metadata": {},
   "source": [
    "**Answer:**\n",
    "Segment 0 seems like it is a market. That has food as well as non-food items and large amounts of produce (milk, grocery, etc.). \n",
    "Segment 1 seems like it is a restaurant or cafe as they mostly serve food options, especially because of lot of fresh food."
   ]
  },
  {
   "cell_type": "markdown",
   "metadata": {
    "collapsed": false
   },
   "source": [
    "### Question 9\n",
    "*For each sample point, which customer segment from* ***Question 8*** *best represents it? Are the predictions for each sample point consistent with this?*\n",
    "\n",
    "Run the code block below to find which cluster each sample point is predicted to be."
   ]
  },
  {
   "cell_type": "code",
   "execution_count": null,
   "metadata": {
    "collapsed": false
   },
   "outputs": [],
   "source": [
    "# Display the predictions\n",
    "for i, pred in enumerate(sample_preds):\n",
    "    print \"Sample point\", i, \"predicted to be in Cluster\", pred"
   ]
  },
  {
   "cell_type": "markdown",
   "metadata": {
    "collapsed": false
   },
   "source": [
    "**Answer:**\n",
    "Sample point 0 predicted to be in Cluster 0 - Market\n",
    "Sample point 1 predicted to be in Cluster 0 - Market\n",
    "Sample point 2 predicted to be in Cluster 1 - Restaurant\n",
    "\n",
    "Point 0: In the earlier questions I suggested that because of the above average use of groceries & non-food items, this cood be a market. Predicted segment is also market.\n",
    "\n",
    "Point 1: In the earlier questions I suggested that because of the abnormally large use of non-food related items, this cood be a market. Predicted segment is also market.\n",
    "\n",
    "Point 2: I suggested that this is a restaurant. Predicted is a restaurant/cafe."
   ]
  },
  {
   "cell_type": "markdown",
   "metadata": {},
   "source": [
    "## Conclusion"
   ]
  },
  {
   "cell_type": "markdown",
   "metadata": {},
   "source": [
    "In this final section, you will investigate ways that you can make use of the clustered data. First, you will consider how the different groups of customers, the ***customer segments***, may be affected differently by a specific delivery scheme. Next, you will consider how giving a label to each customer (which *segment* that customer belongs to) can provide for additional features about the customer data. Finally, you will compare the ***customer segments*** to a hidden variable present in the data, to see whether the clustering identified certain relationships."
   ]
  },
  {
   "cell_type": "markdown",
   "metadata": {
    "collapsed": true
   },
   "source": [
    "### Question 10\n",
    "Companies will often run [A/B tests](https://en.wikipedia.org/wiki/A/B_testing) when making small changes to their products or services to determine whether making that change will affect its customers positively or negatively. The wholesale distributor is considering changing its delivery service from currently 5 days a week to 3 days a week. However, the distributor will only make this change in delivery service for customers that react positively. *How can the wholesale distributor use the customer segments to determine which customers, if any, would react positively to the change in delivery service?*  \n",
    "**Hint:** Can we assume the change affects all customers equally? How can we determine which group of customers it affects the most?"
   ]
  },
  {
   "cell_type": "markdown",
   "metadata": {},
   "source": [
    "**Answer:**\n",
    "\n",
    "We cannot assume that change affects all customers equally. Thinking about the effect of changing delivery schedule from 5 to 3 days, I would start with the \"market\" segment. This is because they may have capacity to store foods especially refrigerated ones. A restaurant on the other hand may not have as much space & would be affected a lot. \n",
    "\n",
    "So, the wholesale distributor can consider doing an A/B test in each market segment by comparing general satisfaction with the satisfaction of a small group in those segments. \n",
    "\n",
    "Market segment:\n",
    "Group A: small group of statistically representative customers that will be in the test group\n",
    "Group B: small group of statistically representative customers that will be in the control group\n",
    "\n",
    "Restaurant/Cafe segment:\n",
    "Group C: small group of statistically representative customers that will be in the test group\n",
    "Group D: small group of statistically representative customers that will be in the control group\n",
    "\n",
    "After starting the test - Group A & C gets 3 days delivery & Group B & D keep their 5 day cycle. I will ask for customer satisfaction from all at the end of the trial period (say 1 month). (Even though nothing's changed for C & D, we can ensure that sampling of the satisfaction is done at at same time, avoiding unforseen biases)\n",
    "\n",
    "If the customer satisfaction for a segment improves, then we can use it for that segment. For example, if satisfaction of both A & C groups is higher than B & D then we can change delivery cycle for both. Since A & C are statistically representatives, the adoptance of the change in schedule will be smoother. Of course, people relationships are important to convince people of what to do & benifit to them needs to be shown as well."
   ]
  },
  {
   "cell_type": "markdown",
   "metadata": {},
   "source": [
    "### Question 11\n",
    "Additional structure is derived from originally unlabeled data when using clustering techniques. Since each customer has a ***customer segment*** it best identifies with (depending on the clustering algorithm applied), we can consider *'customer segment'* as an **engineered feature** for the data. Assume the wholesale distributor recently acquired ten new customers and each provided estimates for anticipated annual spending of each product category. Knowing these estimates, the wholesale distributor wants to classify each new customer to a ***customer segment*** to determine the most appropriate delivery service.  \n",
    "*How can the wholesale distributor label the new customers using only their estimated product spending and the* ***customer segment*** *data?*  \n",
    "**Hint:** A supervised learner could be used to train on the original customers. What would be the target variable?"
   ]
  },
  {
   "cell_type": "markdown",
   "metadata": {},
   "source": [
    "**Answer:**\n",
    "Assuming good estimation practices, we should be able to use the estimates as same features for predicting. In this case, we can create a classifier using supervised learning to classify the new customers as belonging to market or restaurant segment. In the supervised learner, the features for purchased goods categories stays the same. The clusters identified for the original unsupervised data can then become the target varable. \n",
    "\n",
    "Once the classifier is trained, the distributer can use it for predicting the segment of the 10 new customers, and use their delivery schedule for it."
   ]
  },
  {
   "cell_type": "markdown",
   "metadata": {},
   "source": [
    "### Visualizing Underlying Distributions\n",
    "\n",
    "At the beginning of this project, it was discussed that the `'Channel'` and `'Region'` features would be excluded from the dataset so that the customer product categories were emphasized in the analysis. By reintroducing the `'Channel'` feature to the dataset, an interesting structure emerges when considering the same PCA dimensionality reduction applied earlier to the original dataset.\n",
    "\n",
    "Run the code block below to see how each data point is labeled either `'HoReCa'` (Hotel/Restaurant/Cafe) or `'Retail'` the reduced space. In addition, you will find the sample points are circled in the plot, which will identify their labeling."
   ]
  },
  {
   "cell_type": "code",
   "execution_count": null,
   "metadata": {
    "collapsed": false,
    "scrolled": false
   },
   "outputs": [],
   "source": [
    "# Display the clustering results based on 'Channel' data\n",
    "vs.channel_results(reduced_data, outliers, pca_samples)"
   ]
  },
  {
   "cell_type": "code",
   "execution_count": null,
   "metadata": {
    "collapsed": true
   },
   "outputs": [],
   "source": [
    "![Channel Results](channel_results.png)"
   ]
  },
  {
   "cell_type": "markdown",
   "metadata": {},
   "source": [
    "### Question 12\n",
    "*How well does the clustering algorithm and number of clusters you've chosen compare to this underlying distribution of Hotel/Restaurant/Cafe customers to Retailer customers? Are there customer segments that would be classified as purely 'Retailers' or 'Hotels/Restaurants/Cafes' by this distribution? Would you consider these classifications as consistent with your previous definition of the customer segments?*"
   ]
  },
  {
   "cell_type": "markdown",
   "metadata": {},
   "source": [
    "**Answer:**\n",
    "\n",
    "Comparing the clusters with & without channel, the two clusters appear quite similar, which is a good sign. But the visualization with channel data shows a better mixture of the two clusters. \n",
    "\n",
    "While my samples retain their classification (and so are consistent) I can see that there are many other points that are more of a mixed boundary.\n",
    "\n",
    "Possibly when we did not consider channel, and after PCA we lost the necessary information for the clustering. By reintroducing those, and re-doing the PCA, we may be able to predict the clusters better.\n"
   ]
  },
  {
   "cell_type": "markdown",
   "metadata": {},
   "source": [
    "> **Note**: Once you have completed all of the code implementations and successfully answered each question above, you may finalize your work by exporting the iPython Notebook as an HTML document. You can do this by using the menu above and navigating to  \n",
    "**File -> Download as -> HTML (.html)**. Include the finished document along with this notebook as your submission."
   ]
  }
 ],
 "metadata": {
  "anaconda-cloud": {},
  "kernelspec": {
   "display_name": "Python [default]",
   "language": "python",
   "name": "python2"
  },
  "language_info": {
   "codemirror_mode": {
    "name": "ipython",
    "version": 2
   },
   "file_extension": ".py",
   "mimetype": "text/x-python",
   "name": "python",
   "nbconvert_exporter": "python",
   "pygments_lexer": "ipython2",
   "version": "2.7.12"
  }
 },
 "nbformat": 4,
 "nbformat_minor": 0
}
