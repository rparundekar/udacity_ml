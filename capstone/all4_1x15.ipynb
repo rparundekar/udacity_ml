{
 "cells": [
  {
   "cell_type": "code",
   "execution_count": 1,
   "metadata": {
    "collapsed": false,
    "deletable": true,
    "editable": true
   },
   "outputs": [
    {
     "name": "stderr",
     "output_type": "stream",
     "text": [
      "Using TensorFlow backend.\n"
     ]
    }
   ],
   "source": [
    "from keras.models import Sequential\n",
    "from keras.layers import Dense\n",
    "from keras import regularizers\n",
    "\n",
    "import numpy as np\n",
    "# fix random seed for reproducibility\n",
    "np.random.seed(42)\n",
    "\n",
    "import pandas as pd"
   ]
  },
  {
   "cell_type": "code",
   "execution_count": 2,
   "metadata": {
    "collapsed": true,
    "deletable": true,
    "editable": true
   },
   "outputs": [],
   "source": [
    "#Folder for the dataset\n",
    "datasetFolder = '/home/carnd/dbpedia2016/all4_1x15/dataset/'\n",
    "\n",
    "#Number of files\n",
    "numberOfFiles = 2555\n",
    "\n",
    "#Test split\n",
    "testSplit=0.25"
   ]
  },
  {
   "cell_type": "code",
   "execution_count": 3,
   "metadata": {
    "collapsed": false,
    "deletable": true,
    "editable": true
   },
   "outputs": [],
   "source": [
    "def load_data(datasetFolder, datasetXFile, datasetYFile, wrap=True):\n",
    "    #print('Loading {} & {}'.format(datasetXFile, datasetYFile))\n",
    "    # load file\n",
    "    with open(datasetFolder + datasetXFile, \"r\") as f:\n",
    "        head = f.readline()\n",
    "        cols = head.split(',')\n",
    "        numberOfCols = len(cols)\n",
    "        #print(numberOfCols)\n",
    "        numberOfRows=0\n",
    "        for line in f:\n",
    "            numberOfRows+=1\n",
    "        f.close()\n",
    "    \n",
    "    #print('{} x {}'.format(numberOfRows,numberOfCols))\n",
    "    if(wrap==True):\n",
    "        maxY = 1000\n",
    "    else:\n",
    "        maxY = numberOfCols-1\n",
    "    dataX = np.zeros([numberOfRows,maxY],np.int8)\n",
    "    with open(datasetFolder + datasetXFile, \"r\") as f:\n",
    "        head = f.readline()\n",
    "        rowCounter=0\n",
    "        for line in f:\n",
    "            row=line.split(', ')\n",
    "            for i in range(1, len(row)):\n",
    "                if(int(row[i])<=0):\n",
    "                    continue;\n",
    "                dataX[rowCounter][(int(row[i])-1)%maxY]=1 + ((int(row[i])-1)//maxY)\n",
    "                #if((1 + ((int(row[i])-1)//maxY))>1):\n",
    "                #    print(\"{} data[{}][{}] = {}\".format(int(row[i])-1, rowCounter,(int(row[i])-1)%maxY,1 + ((int(row[i])-1)//maxY)))\n",
    "            rowCounter+=1\n",
    "        f.close()\n",
    "        \n",
    "    dataY=pd.read_csv(datasetFolder + datasetYFile)\n",
    "\n",
    "    # delete the id fields\n",
    "    #del dataX['id']\n",
    "    del dataY['id']\n",
    "\n",
    "    return dataX, dataY.as_matrix()"
   ]
  },
  {
   "cell_type": "code",
   "execution_count": 4,
   "metadata": {
    "collapsed": false,
    "deletable": true,
    "editable": true
   },
   "outputs": [],
   "source": [
    "dataX, dataY = load_data(datasetFolder,'datasetX_1231.csv', 'datasetY_1231.csv',wrap=True)"
   ]
  },
  {
   "cell_type": "code",
   "execution_count": 5,
   "metadata": {
    "collapsed": false,
    "deletable": true,
    "editable": true
   },
   "outputs": [
    {
     "name": "stdout",
     "output_type": "stream",
     "text": [
      "(1241, 1000)\n",
      "[[0 1 0 ..., 0 0 0]\n",
      " [0 0 0 ..., 0 0 0]\n",
      " [0 0 0 ..., 0 0 0]\n",
      " [0 0 0 ..., 0 0 0]\n",
      " [0 1 0 ..., 0 0 0]]\n"
     ]
    }
   ],
   "source": [
    "print(dataX.shape)\n",
    "print(dataX[0:5])"
   ]
  },
  {
   "cell_type": "code",
   "execution_count": 6,
   "metadata": {
    "collapsed": false,
    "deletable": true,
    "editable": true
   },
   "outputs": [
    {
     "name": "stdout",
     "output_type": "stream",
     "text": [
      "(1241, 539)\n",
      "[[0 0 0 ..., 0 0 0]\n",
      " [0 0 0 ..., 0 0 0]\n",
      " [0 0 0 ..., 0 0 0]\n",
      " [0 0 0 ..., 0 0 0]\n",
      " [0 0 0 ..., 0 0 0]]\n"
     ]
    }
   ],
   "source": [
    "print(dataY.shape)\n",
    "print(dataY[0:5])"
   ]
  },
  {
   "cell_type": "code",
   "execution_count": 7,
   "metadata": {
    "collapsed": false,
    "deletable": true,
    "editable": true
   },
   "outputs": [
    {
     "name": "stdout",
     "output_type": "stream",
     "text": [
      "Input Features: 1000\n",
      "Output Classes: 539\n"
     ]
    }
   ],
   "source": [
    "print(\"Input Features: {}\".format(dataX.shape[1]))\n",
    "print(\"Output Classes: {}\".format(dataY.shape[1]))"
   ]
  },
  {
   "cell_type": "code",
   "execution_count": 8,
   "metadata": {
    "collapsed": false,
    "deletable": true,
    "editable": true
   },
   "outputs": [],
   "source": [
    "# create model\n",
    "# logisticRegression = Sequential(name='Simple Logistic Regression')\n",
    "# logisticRegression.add(Dense(dataY.shape[1], input_dim=dataX.shape[1], activation='sigmoid', init='glorot_uniform'))\n",
    "\n",
    "# simpleModel = Sequential(name='2 Fully Connected Layers')\n",
    "# simpleModel.add(Dense(1024, input_dim=dataX.shape[1], activation='relu', init='glorot_uniform'))\n",
    "# simpleModel.add(Dense(dataY.shape[1], activation='sigmoid', init='glorot_uniform'))\n",
    "\n",
    "deepModel = Sequential(name='Deep Model (5 Dense Layers)')\n",
    "deepModel.add(Dense(2048, input_dim=dataX.shape[1], activation='tanh', init='glorot_uniform'))\n",
    "deepModel.add(Dense(2048, activation='elu', init='glorot_uniform'))\n",
    "deepModel.add(Dense(1024, activation='tanh', init='glorot_uniform'))\n",
    "deepModel.add(Dense(1024, activation='elu', init='glorot_uniform'))\n",
    "deepModel.add(Dense(768, activation='elu', init='glorot_uniform'))\n",
    "deepModel.add(Dense(dataY.shape[1], activation='sigmoid', init='glorot_uniform'))\n",
    "\n",
    "models = [deepModel]"
   ]
  },
  {
   "cell_type": "code",
   "execution_count": 9,
   "metadata": {
    "collapsed": false,
    "deletable": true,
    "editable": true
   },
   "outputs": [],
   "source": [
    "# Compile model\n",
    "import keras.backend as K\n",
    "\n",
    "def count_predictions(y_true, y_pred):\n",
    "    true_positives = K.sum(K.round(K.clip(y_true * y_pred, 0, 1)))\n",
    "    predicted_positives = K.sum(K.round(K.clip(y_pred, 0, 1)))\n",
    "    possible_positives = K.sum(K.round(K.clip(y_true, 0, 1)))\n",
    "    return true_positives, predicted_positives, possible_positives\n",
    "\n",
    "def f1score(y_true, y_pred):\n",
    "    true_positives, predicted_positives, possible_positives = count_predictions(y_true, y_pred)\n",
    "    precision = true_positives / (predicted_positives + K.epsilon())\n",
    "    recall = true_positives / (possible_positives + K.epsilon())\n",
    "    f1score = 2.0 * precision * recall / (precision+recall+ K.epsilon())\n",
    "    return f1score\n",
    "\n",
    "def fBetaScore(y_true, y_pred, beta):\n",
    "    true_positives, predicted_positives, possible_positives = count_predictions(y_true, y_pred)\n",
    "    precision = true_positives / (predicted_positives + K.epsilon())\n",
    "    recall = true_positives / (possible_positives + K.epsilon())\n",
    "    f1score = (1+(beta*beta)) * precision * recall / ((beta*beta*precision)+recall+ K.epsilon())\n",
    "    return f1score\n",
    "\n",
    "for model in models:\n",
    "    model.compile(loss='binary_crossentropy', optimizer='adam', metrics=[f1score])"
   ]
  },
  {
   "cell_type": "code",
   "execution_count": 10,
   "metadata": {
    "collapsed": false,
    "deletable": true,
    "editable": true
   },
   "outputs": [],
   "source": [
    "def fit_data(model, dataX, dataY):\n",
    "    # Fit the model\n",
    "    #model.fit(dataX, dataY, nb_epoch=5, verbose=2, batch_size=256)\n",
    "    return model.train_on_batch(dataX, dataY)"
   ]
  },
  {
   "cell_type": "code",
   "execution_count": 11,
   "metadata": {
    "collapsed": false,
    "deletable": true,
    "editable": true
   },
   "outputs": [],
   "source": [
    "def countPredictions(y_true, y_pred):\n",
    "    true_positives = np.sum(np.round(y_pred*y_true))\n",
    "    predicted_positives = np.sum(np.round(y_pred))\n",
    "    possible_positives = np.sum(y_true)\n",
    "    return true_positives, predicted_positives, possible_positives"
   ]
  },
  {
   "cell_type": "code",
   "execution_count": 12,
   "metadata": {
    "collapsed": false,
    "deletable": true,
    "editable": true,
    "scrolled": true
   },
   "outputs": [
    {
     "name": "stdout",
     "output_type": "stream",
     "text": [
      "1. Eon 1/15\n",
      "- Model = Deep Model (5 Dense Layers) \t f1-score = 0.8047\t precision = 0.8835 \t recall = 0.7388                          \n",
      "\n",
      "2. Eon 2/15\n",
      "- Model = Deep Model (5 Dense Layers) \t f1-score = 0.8374\t precision = 0.9029 \t recall = 0.7808                          \n",
      "\n",
      "3. Eon 3/15\n",
      "- Model = Deep Model (5 Dense Layers) \t f1-score = 0.8516\t precision = 0.9000 \t recall = 0.8083                          \n",
      "\n",
      "4. Eon 4/15\n",
      "- Model = Deep Model (5 Dense Layers) \t f1-score = 0.8593\t precision = 0.9067 \t recall = 0.8167                          \n",
      "\n",
      "5. Eon 5/15\n",
      "- Model = Deep Model (5 Dense Layers) \t f1-score = 0.8624\t precision = 0.9134 \t recall = 0.8169                          \n",
      "\n",
      "6. Eon 6/15\n",
      "- Model = Deep Model (5 Dense Layers) \t f1-score = 0.8656\t precision = 0.9181 \t recall = 0.8189                          \n",
      "\n",
      "7. Eon 7/15\n",
      "- Model = Deep Model (5 Dense Layers) \t f1-score = 0.8690\t precision = 0.9168 \t recall = 0.8260                          \n",
      "\n",
      "8. Eon 8/15\n",
      "- Model = Deep Model (5 Dense Layers) \t f1-score = 0.8700\t precision = 0.9172 \t recall = 0.8275                          \n",
      "\n",
      "9. Eon 9/15\n",
      "- Model = Deep Model (5 Dense Layers) \t f1-score = 0.8710\t precision = 0.9168 \t recall = 0.8296                          \n",
      "\n",
      "10. Eon 10/15\n",
      "- Model = Deep Model (5 Dense Layers) \t f1-score = 0.8725\t precision = 0.9190 \t recall = 0.8305                          \n",
      "\n",
      "11. Eon 11/15\n",
      "- Model = Deep Model (5 Dense Layers) \t f1-score = 0.8733\t precision = 0.9180 \t recall = 0.8329                          \n",
      "\n",
      "12. Eon 12/15\n",
      "- Model = Deep Model (5 Dense Layers) \t f1-score = 0.8736\t precision = 0.9219 \t recall = 0.8302                          \n",
      "\n",
      "13. Eon 13/15\n",
      "- Model = Deep Model (5 Dense Layers) \t f1-score = 0.8745\t precision = 0.9206 \t recall = 0.8328                          \n",
      "\n",
      "14. Eon 14/15\n",
      "- Model = Deep Model (5 Dense Layers) \t f1-score = 0.8739\t precision = 0.9221 \t recall = 0.8305                          \n",
      "\n",
      "15. Eon 15/15\n",
      "- Model = Deep Model (5 Dense Layers) \t f1-score = 0.8746\t precision = 0.9211 \t recall = 0.8327                          \n",
      "\n"
     ]
    }
   ],
   "source": [
    "#Randomize the list of numbers so we can split train and test dataset\n",
    "listOfFiles=list(range(1,numberOfFiles+1))\n",
    "import random\n",
    "random.shuffle(listOfFiles)\n",
    "splitIndex=int((1-testSplit)*numberOfFiles)\n",
    "\n",
    "numberOfEons = 15\n",
    "for eon in range(0, numberOfEons):\n",
    "    print('{}. Eon {}/{}'.format(eon+1,eon+1, numberOfEons))\n",
    "    for trainIndex in range(0,splitIndex):\n",
    "        dataX, dataY = load_data(datasetFolder,'datasetX_{}.csv'.format(listOfFiles[trainIndex]), 'datasetY_{}.csv'.format(listOfFiles[trainIndex]))\n",
    "        for model in models:\n",
    "            #print('Model = {}'.format(model.name))\n",
    "            #model.fit(dataX, dataY, nb_epoch=5, verbose=0, batch_size=512)\n",
    "            loss, f1score=fit_data(model,dataX, dataY)\n",
    "            print('Learning for file {} / {} : datasetX/Y_{}\\t\\tloss={:.4f} f1score={:.4f}'.format(trainIndex+1, splitIndex, listOfFiles[trainIndex], loss, f1score), end='\\r')\n",
    "        \n",
    "#             if((trainIndex+1)%10==0):\n",
    "#                 sc=model.test_on_batch(dataX,dataY)\n",
    "#                 print('Learning for file {} / {} : datasetX/Y_{}...'.format(trainIndex+1, splitIndex, listOfFiles[trainIndex]))\n",
    "#                 print('   Model = {} \\t loss = {:.4f} \\t f1-score = {:.4f}'.format(model.name, sc[0], sc[1]))\n",
    "#                 print('==========================================')\n",
    "             \n",
    "        \n",
    "    counts = {} \n",
    "    for model in models:\n",
    "        counts[model.name] = {'true_positives':0, 'predicted_positives':0, 'possible_positives':0}\n",
    "    \n",
    "    for testIndex in range(splitIndex, numberOfFiles):\n",
    "        dataX, dataY = load_data(datasetFolder,'datasetX_{}.csv'.format(listOfFiles[testIndex]), 'datasetY_{}.csv'.format(listOfFiles[testIndex]))\n",
    "        for model in models:\n",
    "            predY=model.predict_on_batch(dataX)\n",
    "            true_positives, predicted_positives, possible_positives = countPredictions(dataY, predY)\n",
    "            counts[model.name]['true_positives'] += true_positives\n",
    "            counts[model.name]['predicted_positives'] += predicted_positives\n",
    "            counts[model.name]['possible_positives'] += possible_positives\n",
    "            print ('Testing for file {} / {} : datasetX/Y_{} - true +ve:{}  pred +ve:{} possible +ve:{}'.format(testIndex+1, numberOfFiles, listOfFiles[testIndex], true_positives,predicted_positives,possible_positives), end='\\r')\n",
    "    \n",
    "    for model in models:\n",
    "        count = counts[model.name]\n",
    "        precision = (count['true_positives'])/(count['predicted_positives']+0.0001)\n",
    "        recall = (count['true_positives'])/(count['possible_positives']+0.0001)\n",
    "        f1score = 2.0 * precision * recall / (precision+recall+0.0001)\n",
    "        print('- Model = {} \\t f1-score = {:.4f}\\t precision = {:.4f} \\t recall = {:.4f'.format(model.name, f1score, precision, recall))"
   ]
  },
  {
   "cell_type": "markdown",
   "metadata": {
    "deletable": true,
    "editable": true
   },
   "source": [
    "==================================================\n",
    "# all4_1x15\n",
    "==================================================\n",
    "1. Eon 1/15\n",
    " - Model = Deep Model (5 Dense Layers) \t f1-score = 0.8047\t precision = 0.8835 \t recall = 0.7388  \n",
    "2. Eon 2/15:\n",
    " - Model = Deep Model (5 Dense Layers) \t f1-score = 0.8374\t precision = 0.9029 \t recall = 0.7808                   \n",
    "3. Eon 3/15:\n",
    " - Model = Deep Model (5 Dense Layers) \t f1-score = 0.8516\t precision = 0.9000 \t recall = 0.8083                   \n",
    "4. Eon 4/15:\n",
    " - Model = Deep Model (5 Dense Layers) \t f1-score = 0.8593\t precision = 0.9067 \t recall = 0.8167                   \n",
    "5. Eon 5/15:\n",
    " - Model = Deep Model (5 Dense Layers) \t f1-score = 0.8624\t precision = 0.9134 \t recall = 0.8169                   \n",
    "6. Eon 6/15:\n",
    " - Model = Deep Model (5 Dense Layers) \t f1-score = 0.8656\t precision = 0.9181 \t recall = 0.8189                   \n",
    "7. Eon 7/15:\n",
    " - Model = Deep Model (5 Dense Layers) \t f1-score = 0.8690\t precision = 0.9168 \t recall = 0.8260                   \n",
    "8. Eon 8/15:\n",
    " - Model = Deep Model (5 Dense Layers) \t f1-score = 0.8700\t precision = 0.9172 \t recall = 0.8275\n",
    "9. Eon 9/15:\n",
    " - Model = Deep Model (5 Dense Layers) \t f1-score = 0.8710\t precision = 0.9168 \t recall = 0.8296                   \n",
    "10. Eon 10/15:\n",
    " - Model = Deep Model (5 Dense Layers) \t f1-score = 0.8725\t precision = 0.9190 \t recall = 0.8305                   \n",
    "11. Eon 11/15:\n",
    " - Model = Deep Model (5 Dense Layers) \t f1-score = 0.8733\t precision = 0.9180 \t recall = 0.8329                   \n",
    "12. Eon 12/15:\n",
    " - Model = Deep Model (5 Dense Layers) \t f1-score = 0.8736\t precision = 0.9219 \t recall = 0.8302                   \n",
    "13. Eon 13/15:\n",
    " - Model = Deep Model (5 Dense Layers) \t f1-score = 0.8745\t precision = 0.9206 \t recall = 0.8328                   \n",
    "14. Eon 14/15:\n",
    " - Model = Deep Model (5 Dense Layers) \t f1-score = 0.8739\t precision = 0.9221 \t recall = 0.8305                   \n",
    "15. Eon 15/15:\n",
    " - Model = Deep Model (5 Dense Layers) \t f1-score = 0.8746\t precision = 0.9211 \t recall = 0.8327      "
   ]
  },
  {
   "cell_type": "markdown",
   "metadata": {
    "collapsed": true,
    "deletable": true,
    "editable": true,
    "scrolled": true
   },
   "source": [
    "## "
   ]
  },
  {
   "cell_type": "code",
   "execution_count": null,
   "metadata": {
    "collapsed": true,
    "deletable": true,
    "editable": true
   },
   "outputs": [],
   "source": []
  }
 ],
 "metadata": {
  "anaconda-cloud": {},
  "kernelspec": {
   "display_name": "Python 3",
   "language": "python",
   "name": "python3"
  },
  "language_info": {
   "codemirror_mode": {
    "name": "ipython",
    "version": 3
   },
   "file_extension": ".py",
   "mimetype": "text/x-python",
   "name": "python",
   "nbconvert_exporter": "python",
   "pygments_lexer": "ipython3",
   "version": "3.5.2"
  },
  "widgets": {
   "state": {},
   "version": "1.1.2"
  }
 },
 "nbformat": 4,
 "nbformat_minor": 1
}
