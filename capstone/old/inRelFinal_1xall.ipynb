{
 "cells": [
  {
   "cell_type": "code",
   "execution_count": 1,
   "metadata": {
    "collapsed": false,
    "deletable": true,
    "editable": true
   },
   "outputs": [
    {
     "name": "stderr",
     "output_type": "stream",
     "text": [
      "Using TensorFlow backend.\n"
     ]
    }
   ],
   "source": [
    "from keras.models import Sequential\n",
    "from keras.layers import Dropout\n",
    "from keras.layers import Dense\n",
    "from keras import regularizers\n",
    "\n",
    "import numpy as np\n",
    "# fix random seed for reproducibility\n",
    "np.random.seed(42)\n",
    "\n",
    "import pandas as pd"
   ]
  },
  {
   "cell_type": "code",
   "execution_count": 2,
   "metadata": {
    "collapsed": true,
    "deletable": true,
    "editable": true
   },
   "outputs": [],
   "source": [
    "#Folder for the dataset\n",
    "datasetFolder = '/home/carnd/dbpedia2016/inRelFinal_1xall/dataset/'\n",
    "\n",
    "#Number of files\n",
    "numberOfFiles = 640\n",
    "\n",
    "#Test split\n",
    "testSplit=0.25"
   ]
  },
  {
   "cell_type": "code",
   "execution_count": 3,
   "metadata": {
    "collapsed": false,
    "deletable": true,
    "editable": true
   },
   "outputs": [],
   "source": [
    "def load_data(datasetFolder, datasetXFile, datasetYFile, wrap=False):\n",
    "    #print('Loading {} & {}'.format(datasetXFile, datasetYFile))\n",
    "    # load file\n",
    "    with open(datasetFolder + datasetXFile, \"r\") as f:\n",
    "        head = f.readline()\n",
    "        cols = head.split(',')\n",
    "        numberOfCols = len(cols)\n",
    "        #print(numberOfCols)\n",
    "        numberOfRows=0\n",
    "        for line in f:\n",
    "            numberOfRows+=1\n",
    "        f.close()\n",
    "    \n",
    "    #print('{} x {}'.format(numberOfRows,numberOfCols))\n",
    "    if(wrap==True):\n",
    "        maxY = 1000\n",
    "    else:\n",
    "        maxY = numberOfCols-1\n",
    "    dataX = np.zeros([numberOfRows,maxY],np.int8)\n",
    "    with open(datasetFolder + datasetXFile, \"r\") as f:\n",
    "        head = f.readline()\n",
    "        rowCounter=0\n",
    "        for line in f:\n",
    "            row=line.split(', ')\n",
    "            for i in range(1, len(row)):\n",
    "                if(int(row[i])<=0):\n",
    "                    continue;\n",
    "                dataX[rowCounter][(int(row[i])-1)%maxY]=1 + ((int(row[i])-1)//maxY)\n",
    "                #if((1 + ((int(row[i])-1)//maxY))>1):\n",
    "                #    print(\"{} data[{}][{}] = {}\".format(int(row[i])-1, rowCounter,(int(row[i])-1)%maxY,1 + ((int(row[i])-1)//maxY)))\n",
    "            rowCounter+=1\n",
    "        f.close()\n",
    "        \n",
    "    dataY=pd.read_csv(datasetFolder + datasetYFile)\n",
    "\n",
    "    # delete the id fields\n",
    "    #del dataX['id']\n",
    "    del dataY['id']\n",
    "\n",
    "    return dataX, dataY.as_matrix()"
   ]
  },
  {
   "cell_type": "code",
   "execution_count": 4,
   "metadata": {
    "collapsed": false,
    "deletable": true,
    "editable": true
   },
   "outputs": [],
   "source": [
    "dataX, dataY = load_data(datasetFolder,'datasetX_1.csv', 'datasetY_1.csv',wrap=False)"
   ]
  },
  {
   "cell_type": "code",
   "execution_count": 5,
   "metadata": {
    "collapsed": false,
    "deletable": true,
    "editable": true
   },
   "outputs": [
    {
     "name": "stdout",
     "output_type": "stream",
     "text": [
      "(1167, 1144)\n",
      "[[0 0 0 ..., 0 0 0]\n",
      " [0 0 1 ..., 0 0 0]\n",
      " [0 0 0 ..., 0 0 0]\n",
      " [0 0 0 ..., 0 0 0]\n",
      " [0 0 0 ..., 0 0 0]]\n"
     ]
    }
   ],
   "source": [
    "print(dataX.shape)\n",
    "print(dataX[0:5])"
   ]
  },
  {
   "cell_type": "code",
   "execution_count": 6,
   "metadata": {
    "collapsed": false,
    "deletable": true,
    "editable": true
   },
   "outputs": [
    {
     "name": "stdout",
     "output_type": "stream",
     "text": [
      "(1167, 527)\n",
      "[[0 0 0 ..., 0 0 0]\n",
      " [0 0 0 ..., 0 0 0]\n",
      " [0 0 0 ..., 0 0 0]\n",
      " [0 0 0 ..., 0 0 0]\n",
      " [0 0 0 ..., 0 0 0]]\n"
     ]
    }
   ],
   "source": [
    "print(dataY.shape)\n",
    "print(dataY[0:5])"
   ]
  },
  {
   "cell_type": "code",
   "execution_count": 7,
   "metadata": {
    "collapsed": false,
    "deletable": true,
    "editable": true
   },
   "outputs": [
    {
     "name": "stdout",
     "output_type": "stream",
     "text": [
      "Input Features: 1144\n",
      "Output Classes: 527\n"
     ]
    }
   ],
   "source": [
    "print(\"Input Features: {}\".format(dataX.shape[1]))\n",
    "print(\"Output Classes: {}\".format(dataY.shape[1]))"
   ]
  },
  {
   "cell_type": "code",
   "execution_count": 8,
   "metadata": {
    "collapsed": false,
    "deletable": true,
    "editable": true
   },
   "outputs": [],
   "source": [
    "# create model\n",
    "logisticRegression = Sequential(name='Simple Logistic Regression')\n",
    "logisticRegression.add(Dense(dataY.shape[1], input_dim=dataX.shape[1], activation='sigmoid', init='glorot_uniform'))\n",
    "\n",
    "# simpleModel = Sequential(name='2 Fully Connected Layers')\n",
    "# simpleModel.add(Dense(1024, input_dim=dataX.shape[1], activation='relu', init='glorot_uniform'))\n",
    "# simpleModel.add(Dense(dataY.shape[1], activation='sigmoid', init='glorot_uniform'))\n",
    "\n",
    "deepModel = Sequential(name='Deep Model (5 Dense Layers)')\n",
    "deepModel.add(Dense(2048, input_dim=dataX.shape[1], activation='relu', init='glorot_uniform'))\n",
    "deepModel.add(Dropout(0.2))\n",
    "deepModel.add(Dense(2048, activation='elu', init='glorot_uniform'))\n",
    "deepModel.add(Dense(1024, activation='relu', init='glorot_uniform'))\n",
    "deepModel.add(Dropout(0.2))\n",
    "deepModel.add(Dense(1024, activation='elu', init='glorot_uniform'))\n",
    "deepModel.add(Dense(768, activation='relu', init='glorot_uniform'))\n",
    "deepModel.add(Dropout(0.2))\n",
    "deepModel.add(Dense(768, activation='elu', init='glorot_uniform'))\n",
    "deepModel.add(Dense(dataY.shape[1], activation='sigmoid', init='glorot_uniform'))\n",
    "\n",
    "models = [logisticRegression, deepModel]"
   ]
  },
  {
   "cell_type": "code",
   "execution_count": 9,
   "metadata": {
    "collapsed": false,
    "deletable": true,
    "editable": true
   },
   "outputs": [],
   "source": [
    "# Compile model\n",
    "import keras.backend as K\n",
    "\n",
    "def count_predictions(y_true, y_pred):\n",
    "    true_positives = K.sum(K.round(K.clip(y_true * y_pred, 0, 1)))\n",
    "    predicted_positives = K.sum(K.round(K.clip(y_pred, 0, 1)))\n",
    "    possible_positives = K.sum(K.round(K.clip(y_true, 0, 1)))\n",
    "    return true_positives, predicted_positives, possible_positives\n",
    "\n",
    "def f1score(y_true, y_pred):\n",
    "    true_positives, predicted_positives, possible_positives = count_predictions(y_true, y_pred)\n",
    "    precision = true_positives / (predicted_positives + K.epsilon())\n",
    "    recall = true_positives / (possible_positives + K.epsilon())\n",
    "    f1score = 2.0 * precision * recall / (precision+recall+ K.epsilon())\n",
    "    return f1score\n",
    "\n",
    "def fBetaScore(y_true, y_pred, beta):\n",
    "    true_positives, predicted_positives, possible_positives = count_predictions(y_true, y_pred)\n",
    "    precision = true_positives / (predicted_positives + K.epsilon())\n",
    "    recall = true_positives / (possible_positives + K.epsilon())\n",
    "    f1score = (1+(beta*beta)) * precision * recall / ((beta*beta*precision)+recall+ K.epsilon())\n",
    "    return f1score\n",
    "\n",
    "for model in models:\n",
    "    model.compile(loss='binary_crossentropy', optimizer='adagrad', metrics=[f1score])"
   ]
  },
  {
   "cell_type": "code",
   "execution_count": 10,
   "metadata": {
    "collapsed": false,
    "deletable": true,
    "editable": true
   },
   "outputs": [],
   "source": [
    "def fit_data(model, dataX, dataY):\n",
    "    # Fit the model\n",
    "    #model.fit(dataX, dataY, nb_epoch=5, verbose=2, batch_size=256)\n",
    "    return model.train_on_batch(dataX, dataY)"
   ]
  },
  {
   "cell_type": "code",
   "execution_count": 11,
   "metadata": {
    "collapsed": false,
    "deletable": true,
    "editable": true
   },
   "outputs": [],
   "source": [
    "def countPredictions(y_true, y_pred):\n",
    "    true_positives = np.sum(np.round(y_pred*y_true))\n",
    "    predicted_positives = np.sum(np.round(y_pred))\n",
    "    possible_positives = np.sum(y_true)\n",
    "    return true_positives, predicted_positives, possible_positives"
   ]
  },
  {
   "cell_type": "code",
   "execution_count": 12,
   "metadata": {
    "collapsed": false,
    "deletable": true,
    "editable": true,
    "scrolled": true
   },
   "outputs": [
    {
     "name": "stdout",
     "output_type": "stream",
     "text": [
      "1. Eon 1/25\n",
      " - Model = Simple Logistic Regression \t f1-score = 0.2069\t precision = 0.8599 \t recall = 0.11768\n",
      " - Model = Deep Model (5 Dense Layers) \t f1-score = 0.3471\t precision = 0.7889 \t recall = 0.2225\n",
      "2. Eon 2/25\n",
      " - Model = Simple Logistic Regression \t f1-score = 0.2263\t precision = 0.8510 \t recall = 0.13054\n",
      " - Model = Deep Model (5 Dense Layers) \t f1-score = 0.3878\t precision = 0.7913 \t recall = 0.2568\n",
      "3. Eon 3/25\n",
      " - Model = Simple Logistic Regression \t f1-score = 0.2469\t precision = 0.8481 \t recall = 0.14454\n",
      " - Model = Deep Model (5 Dense Layers) \t f1-score = 0.3968\t precision = 0.7884 \t recall = 0.2651\n",
      "4. Eon 4/25\n",
      " - Model = Simple Logistic Regression \t f1-score = 0.2773\t precision = 0.8391 \t recall = 0.16614\n",
      " - Model = Deep Model (5 Dense Layers) \t f1-score = 0.4076\t precision = 0.7858 \t recall = 0.2752\n",
      "5. Eon 5/25\n",
      " - Model = Simple Logistic Regression \t f1-score = 0.2848\t precision = 0.8392 \t recall = 0.17154\n",
      " - Model = Deep Model (5 Dense Layers) \t f1-score = 0.4203\t precision = 0.7791 \t recall = 0.2878\n",
      "6. Eon 6/25\n",
      " - Model = Simple Logistic Regression \t f1-score = 0.2939\t precision = 0.8384 \t recall = 0.17824\n",
      " - Model = Deep Model (5 Dense Layers) \t f1-score = 0.4188\t precision = 0.7800 \t recall = 0.2862\n",
      "7. Eon 7/25\n",
      " - Model = Simple Logistic Regression \t f1-score = 0.2962\t precision = 0.8379 \t recall = 0.17994\n",
      " - Model = Deep Model (5 Dense Layers) \t f1-score = 0.4240\t precision = 0.7792 \t recall = 0.2913\n",
      "8. Eon 8/25\n",
      " - Model = Simple Logistic Regression \t f1-score = 0.2987\t precision = 0.8372 \t recall = 0.18184\n",
      " - Model = Deep Model (5 Dense Layers) \t f1-score = 0.4257\t precision = 0.7822 \t recall = 0.2924\n",
      "9. Eon 9/25\n",
      " - Model = Simple Logistic Regression \t f1-score = 0.3006\t precision = 0.8363 \t recall = 0.18324\n",
      " - Model = Deep Model (5 Dense Layers) \t f1-score = 0.4231\t precision = 0.7849 \t recall = 0.2896\n",
      "10. Eon 10/25\n",
      " - Model = Simple Logistic Regression \t f1-score = 0.3129\t precision = 0.8286 \t recall = 0.19294\n",
      " - Model = Deep Model (5 Dense Layers) \t f1-score = 0.4256\t precision = 0.7805 \t recall = 0.2926\n",
      "11. Eon 11/25\n",
      " - Model = Simple Logistic Regression \t f1-score = 0.3172\t precision = 0.8278 \t recall = 0.19624\n",
      " - Model = Deep Model (5 Dense Layers) \t f1-score = 0.4311\t precision = 0.7771 \t recall = 0.2983\n",
      "12. Eon 12/25\n",
      " - Model = Simple Logistic Regression \t f1-score = 0.3191\t precision = 0.8274 \t recall = 0.19774\n",
      " - Model = Deep Model (5 Dense Layers) \t f1-score = 0.4300\t precision = 0.7796 \t recall = 0.2969\n",
      "13. Eon 13/25\n",
      " - Model = Simple Logistic Regression \t f1-score = 0.3206\t precision = 0.8273 \t recall = 0.19894\n",
      " - Model = Deep Model (5 Dense Layers) \t f1-score = 0.4287\t precision = 0.7817 \t recall = 0.2954\n",
      "14. Eon 14/25\n",
      " - Model = Simple Logistic Regression \t f1-score = 0.3218\t precision = 0.8271 \t recall = 0.19984\n",
      " - Model = Deep Model (5 Dense Layers) \t f1-score = 0.4303\t precision = 0.7797 \t recall = 0.2972\n",
      "15. Eon 15/25\n",
      " - Model = Simple Logistic Regression \t f1-score = 0.3230\t precision = 0.8268 \t recall = 0.20074\n",
      " - Model = Deep Model (5 Dense Layers) \t f1-score = 0.4325\t precision = 0.7777 \t recall = 0.2996\n",
      "16. Eon 16/25\n",
      " - Model = Simple Logistic Regression \t f1-score = 0.3256\t precision = 0.8265 \t recall = 0.20274\n",
      " - Model = Deep Model (5 Dense Layers) \t f1-score = 0.4319\t precision = 0.7788 \t recall = 0.2988\n",
      "17. Eon 17/25\n",
      " - Model = Simple Logistic Regression \t f1-score = 0.3265\t precision = 0.8258 \t recall = 0.20354\n",
      " - Model = Deep Model (5 Dense Layers) \t f1-score = 0.4315\t precision = 0.7785 \t recall = 0.2985\n",
      "18. Eon 18/25\n",
      " - Model = Simple Logistic Regression \t f1-score = 0.3276\t precision = 0.8258 \t recall = 0.20444\n",
      " - Model = Deep Model (5 Dense Layers) \t f1-score = 0.4316\t precision = 0.7797 \t recall = 0.2984\n",
      "19. Eon 19/25\n",
      " - Model = Simple Logistic Regression \t f1-score = 0.3282\t precision = 0.8256 \t recall = 0.20484\n",
      " - Model = Deep Model (5 Dense Layers) \t f1-score = 0.4315\t precision = 0.7799 \t recall = 0.2983\n",
      "20. Eon 20/25\n",
      " - Model = Simple Logistic Regression \t f1-score = 0.3301\t precision = 0.8258 \t recall = 0.20634\n",
      " - Model = Deep Model (5 Dense Layers) \t f1-score = 0.4329\t precision = 0.7783 \t recall = 0.2999\n",
      "21. Eon 21/25\n",
      " - Model = Simple Logistic Regression \t f1-score = 0.3315\t precision = 0.8249 \t recall = 0.20754\n",
      " - Model = Deep Model (5 Dense Layers) \t f1-score = 0.4328\t precision = 0.7780 \t recall = 0.2999\n",
      "22. Eon 22/25\n",
      " - Model = Simple Logistic Regression \t f1-score = 0.3324\t precision = 0.8245 \t recall = 0.20824\n",
      " - Model = Deep Model (5 Dense Layers) \t f1-score = 0.4334\t precision = 0.7789 \t recall = 0.3003\n",
      "23. Eon 23/25\n",
      " - Model = Simple Logistic Regression \t f1-score = 0.3327\t precision = 0.8242 \t recall = 0.20844\n",
      " - Model = Deep Model (5 Dense Layers) \t f1-score = 0.4320\t precision = 0.7792 \t recall = 0.2989\n",
      "24. Eon 24/25\n",
      " - Model = Simple Logistic Regression \t f1-score = 0.3331\t precision = 0.8240 \t recall = 0.20884\n",
      " - Model = Deep Model (5 Dense Layers) \t f1-score = 0.4338\t precision = 0.7768 \t recall = 0.3010\n",
      "25. Eon 25/25\n",
      " - Model = Simple Logistic Regression \t f1-score = 0.3335\t precision = 0.8239 \t recall = 0.20914\n",
      " - Model = Deep Model (5 Dense Layers) \t f1-score = 0.4316\t precision = 0.7801 \t recall = 0.2984\n"
     ]
    }
   ],
   "source": [
    "#Randomize the list of numbers so we can split train and test dataset\n",
    "listOfFiles=list(range(1,numberOfFiles+1))\n",
    "import random\n",
    "random.shuffle(listOfFiles)\n",
    "splitIndex=int((1-testSplit)*numberOfFiles)\n",
    "\n",
    "numberOfEons = 25\n",
    "for eon in range(0, numberOfEons):\n",
    "    print('{}. Eon {}/{}'.format(eon+1,eon+1, numberOfEons))\n",
    "    for trainIndex in range(0,splitIndex):\n",
    "        dataX, dataY = load_data(datasetFolder,'datasetX_{}.csv'.format(listOfFiles[trainIndex]), 'datasetY_{}.csv'.format(listOfFiles[trainIndex]))\n",
    "        for model in models:\n",
    "            #print('Model = {}'.format(model.name))\n",
    "            #model.fit(dataX, dataY, nb_epoch=5, verbose=0, batch_size=512)\n",
    "            #sc=model.test_on_batch(dataX,dataY)\n",
    "            #loss = sc[0]\n",
    "            #f1score = sc[1]\n",
    "            loss, f1score=fit_data(model,dataX, dataY)\n",
    "            print('Learning for file {} / {} : datasetX/Y_{}\\t\\tloss={:.4f} f1score={:.4f}'.format(trainIndex+1, splitIndex, listOfFiles[trainIndex], loss, f1score), end='\\r')\n",
    "        \n",
    "    counts = {} \n",
    "    for model in models:\n",
    "        counts[model.name] = {'true_positives':0, 'predicted_positives':0, 'possible_positives':0}\n",
    "    \n",
    "    for testIndex in range(splitIndex, numberOfFiles):\n",
    "        dataX, dataY = load_data(datasetFolder,'datasetX_{}.csv'.format(listOfFiles[testIndex]), 'datasetY_{}.csv'.format(listOfFiles[testIndex]))\n",
    "        for model in models:\n",
    "            predY=model.predict_on_batch(dataX)\n",
    "            true_positives, predicted_positives, possible_positives = countPredictions(dataY, predY)\n",
    "            counts[model.name]['true_positives'] += true_positives\n",
    "            counts[model.name]['predicted_positives'] += predicted_positives\n",
    "            counts[model.name]['possible_positives'] += possible_positives\n",
    "            print ('Testing for file {} / {} : datasetX/Y_{} - true +ve:{}  pred +ve:{} possible +ve:{}'.format(testIndex+1, numberOfFiles, listOfFiles[testIndex], true_positives,predicted_positives,possible_positives), end='\\r')\n",
    "    \n",
    "    for model in models:\n",
    "        count = counts[model.name]\n",
    "        precision = (count['true_positives'])/(count['predicted_positives']+0.0001)\n",
    "        recall = (count['true_positives'])/(count['possible_positives']+0.0001)\n",
    "        f1score = 2.0 * precision * recall / (precision+recall+0.0001)\n",
    "        print(' - Model = {} \\t f1-score = {:.4f}\\t precision = {:.4f} \\t recall = {:.4f}'.format(model.name, f1score, precision, recall))"
   ]
  },
  {
   "cell_type": "markdown",
   "metadata": {
    "deletable": true,
    "editable": true
   },
   "source": [
    "==================================================\n",
    "# ainRelFinal_1xall\n",
    "==================================================\n",
    "1. Eon 1/25\n",
    " - Model = Deep Model (5 Dense Layers) \t f1-score = 0.4251\t precision = 0.7243 \t recall = 0.3009\n",
    " - Model = Simple Logistic Regression \t f1-score = 0.3513\t precision = 0.8005 \t recall = 0.2251\n",
    "2. Eon 2/25\n",
    " - Model = Deep Model (5 Dense Layers) \t f1-score = 0.4120\t precision = 0.7618 \t recall = 0.2824\n",
    " - Model = Simple Logistic Regression \t f1-score = 0.3787\t precision = 0.7964 \t recall = 0.2485\n",
    "3. Eon 3/25\n",
    " - Model = Deep Model (5 Dense Layers) \t f1-score = 0.4076\t precision = 0.7667 \t recall = 0.2776\n",
    " - Model = Simple Logistic Regression \t f1-score = 0.3857\t precision = 0.7945 \t recall = 0.2547\n",
    "4. Eon 4/25\n",
    " - Model = Deep Model (5 Dense Layers) \t f1-score = 0.4153\t precision = 0.7620 \t recall = 0.2855\n",
    " - Model = Simple Logistic Regression \t f1-score = 0.3895\t precision = 0.7941 \t recall = 0.2580\n",
    "5. Eon 5/25\n",
    " - Model = Deep Model (5 Dense Layers) \t f1-score = 0.4304\t precision = 0.7418 \t recall = 0.3032\n",
    " - Model = Simple Logistic Regression \t f1-score = 0.3927\t precision = 0.7944 \t recall = 0.2608\n",
    "6. Eon 6/25\n",
    " - Model = Deep Model (5 Dense Layers) \t f1-score = 0.4206\t precision = 0.7757 \t recall = 0.2885\n",
    " - Model = Simple Logistic Regression \t f1-score = 0.3939\t precision = 0.7944 \t recall = 0.2619\n",
    "7. Eon 7/25\n",
    " - Model = Deep Model (5 Dense Layers) \t f1-score = 0.4234\t precision = 0.7495 \t recall = 0.2951\n",
    " - Model = Simple Logistic Regression \t f1-score = 0.3956\t precision = 0.7930 \t recall = 0.2636\n",
    "8. Eon 8/25\n",
    " - Model = Deep Model (5 Dense Layers) \t f1-score = 0.4046\t precision = 0.7662 \t recall = 0.2749\n",
    " - Model = Simple Logistic Regression \t f1-score = 0.3965\t precision = 0.7932 \t recall = 0.2644\n",
    "9. Eon 9/25\n",
    " - Model = Deep Model (5 Dense Layers) \t f1-score = 0.4103\t precision = 0.7660 \t recall = 0.2802\n",
    " - Model = Simple Logistic Regression \t f1-score = 0.3963\t precision = 0.7940 \t recall = 0.2641\n",
    "10. Eon 10/25\n",
    " - Model = Deep Model (5 Dense Layers) \t f1-score = 0.4112\t precision = 0.7831 \t recall = 0.2789\n",
    " - Model = Simple Logistic Regression \t f1-score = 0.3965\t precision = 0.7941 \t recall = 0.2643\n",
    "11. Eon 11/25\n",
    " - Model = Deep Model (5 Dense Layers) \t f1-score = 0.4118\t precision = 0.7681 \t recall = 0.2813\n",
    " - Model = Simple Logistic Regression \t f1-score = 0.3970\t precision = 0.7942 \t recall = 0.2647\n",
    "12. Eon 12/25\n",
    " - Model = Deep Model (5 Dense Layers) \t f1-score = 0.3999\t precision = 0.7808 \t recall = 0.2688\n",
    " - Model = Simple Logistic Regression \t f1-score = 0.3977\t precision = 0.7939 \t recall = 0.2653\n",
    "13. Eon 13/25\n",
    " - Model = Deep Model (5 Dense Layers) \t f1-score = 0.4087\t precision = 0.7533 \t recall = 0.2804\n",
    " - Model = Simple Logistic Regression \t f1-score = 0.3989\t precision = 0.7920 \t recall = 0.2666"
   ]
  },
  {
   "cell_type": "code",
   "execution_count": null,
   "metadata": {
    "collapsed": true,
    "deletable": true,
    "editable": true
   },
   "outputs": [],
   "source": []
  },
  {
   "cell_type": "code",
   "execution_count": null,
   "metadata": {
    "collapsed": true,
    "deletable": true,
    "editable": true
   },
   "outputs": [],
   "source": []
  }
 ],
 "metadata": {
  "anaconda-cloud": {},
  "kernelspec": {
   "display_name": "Python 3",
   "language": "python",
   "name": "python3"
  },
  "language_info": {
   "codemirror_mode": {
    "name": "ipython",
    "version": 3
   },
   "file_extension": ".py",
   "mimetype": "text/x-python",
   "name": "python",
   "nbconvert_exporter": "python",
   "pygments_lexer": "ipython3",
   "version": "3.5.2"
  },
  "widgets": {
   "state": {},
   "version": "1.1.2"
  }
 },
 "nbformat": 4,
 "nbformat_minor": 1
}
