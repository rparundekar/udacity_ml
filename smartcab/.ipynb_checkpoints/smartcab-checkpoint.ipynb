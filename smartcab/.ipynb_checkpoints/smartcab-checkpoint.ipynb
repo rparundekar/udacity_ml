{
 "cells": [
  {
   "cell_type": "markdown",
   "metadata": {},
   "source": [
    "# Machine Learning Engineer Nanodegree\n",
    "## Reinforcement Learning\n",
    "## Project: Train a Smartcab to Drive\n",
    "\n",
    "Welcome to the fourth project of the Machine Learning Engineer Nanodegree! In this notebook, template code has already been provided for you to aid in your analysis of the *Smartcab* and your implemented learning algorithm. You will not need to modify the included code beyond what is requested. There will be questions that you must answer which relate to the project and the visualizations provided in the notebook. Each section where you will answer a question is preceded by a **'Question X'** header. Carefully read each question and provide thorough answers in the following text boxes that begin with **'Answer:'**. Your project submission will be evaluated based on your answers to each of the questions and the implementation you provide in `agent.py`.  \n",
    "\n",
    ">**Note:** Code and Markdown cells can be executed using the **Shift + Enter** keyboard shortcut. In addition, Markdown cells can be edited by typically double-clicking the cell to enter edit mode."
   ]
  },
  {
   "cell_type": "markdown",
   "metadata": {},
   "source": [
    "-----\n",
    "\n",
    "## Getting Started\n",
    "In this project, you will work towards constructing an optimized Q-Learning driving agent that will navigate a *Smartcab* through its environment towards a goal. Since the *Smartcab* is expected to drive passengers from one location to another, the driving agent will be evaluated on two very important metrics: **Safety** and **Reliability**. A driving agent that gets the *Smartcab* to its destination while running red lights or narrowly avoiding accidents would be considered **unsafe**. Similarly, a driving agent that frequently fails to reach the destination in time would be considered **unreliable**. Maximizing the driving agent's **safety** and **reliability** would ensure that *Smartcabs* have a permanent place in the transportation industry.\n",
    "\n",
    "**Safety** and **Reliability** are measured using a letter-grade system as follows:\n",
    "\n",
    "| Grade \t| Safety \t| Reliability \t|\n",
    "|:-----:\t|:------:\t|:-----------:\t|\n",
    "|   A+  \t|  Agent commits no traffic violations,<br/>and always chooses the correct action. | Agent reaches the destination in time<br />for 100% of trips. |\n",
    "|   A   \t|  Agent commits few minor traffic violations,<br/>such as failing to move on a green light. | Agent reaches the destination on time<br />for at least 90% of trips. |\n",
    "|   B   \t| Agent commits frequent minor traffic violations,<br/>such as failing to move on a green light. | Agent reaches the destination on time<br />for at least 80% of trips. |\n",
    "|   C   \t|  Agent commits at least one major traffic violation,<br/> such as driving through a red light. | Agent reaches the destination on time<br />for at least 70% of trips. |\n",
    "|   D   \t| Agent causes at least one minor accident,<br/> such as turning left on green with oncoming traffic.       \t| Agent reaches the destination on time<br />for at least 60% of trips. |\n",
    "|   F   \t|  Agent causes at least one major accident,<br />such as driving through a red light with cross-traffic.      \t| Agent fails to reach the destination on time<br />for at least 60% of trips. |\n",
    "\n",
    "To assist evaluating these important metrics, you will need to load visualization code that will be used later on in the project. Run the code cell below to import this code which is required for your analysis."
   ]
  },
  {
   "cell_type": "code",
   "execution_count": null,
   "metadata": {
    "collapsed": true
   },
   "outputs": [],
   "source": [
    "# Import the visualization code\n",
    "import visuals as vs\n",
    "\n",
    "# Pretty display for notebooks\n",
    "%matplotlib inline"
   ]
  },
  {
   "cell_type": "markdown",
   "metadata": {},
   "source": [
    "### Understand the World\n",
    "Before starting to work on implementing your driving agent, it's necessary to first understand the world (environment) which the *Smartcab* and driving agent work in. One of the major components to building a self-learning agent is understanding the characteristics about the agent, which includes how the agent operates. To begin, simply run the `agent.py` agent code exactly how it is -- no need to make any additions whatsoever. Let the resulting simulation run for some time to see the various working components. Note that in the visual simulation (if enabled), the **white vehicle** is the *Smartcab*."
   ]
  },
  {
   "cell_type": "markdown",
   "metadata": {},
   "source": [
    "### Question 1\n",
    "In a few sentences, describe what you observe during the simulation when running the default `agent.py` agent code. Some things you could consider:\n",
    "- *Does the Smartcab move at all during the simulation?*\n",
    "- *What kind of rewards is the driving agent receiving?*\n",
    "- *How does the light changing color affect the rewards?*  \n",
    "\n",
    "**Hint:** From the `/smartcab/` top-level directory (where this notebook is located), run the command \n",
    "```bash\n",
    "'python smartcab/agent.py'\n",
    "```"
   ]
  },
  {
   "cell_type": "markdown",
   "metadata": {},
   "source": [
    "**Answer:**\n",
    "\n",
    "1) Smartcab doesn't move at all during the interaction. EAch time I run the program, it starts at a random position.<br/>\n",
    "2) The agent is getting a reward every cycle for an action taken. The reward is either positive or negative. <br/>\n",
    "3) The agent gets negative rewards for not moving (idle) at green light, and positive rewards when it doesn't move (idle) and it happens to be a red light."
   ]
  },
  {
   "cell_type": "markdown",
   "metadata": {},
   "source": [
    "### Understand the Code\n",
    "In addition to understanding the world, it is also necessary to understand the code itself that governs how the world, simulation, and so on operate. Attempting to create a driving agent would be difficult without having at least explored the *\"hidden\"* devices that make everything work. In the `/smartcab/` top-level directory, there are two folders: `/logs/` (which will be used later) and `/smartcab/`. Open the `/smartcab/` folder and explore each Python file included, then answer the following question."
   ]
  },
  {
   "cell_type": "markdown",
   "metadata": {},
   "source": [
    "### Question 2\n",
    "- *In the *`agent.py`* Python file, choose three flags that can be set and explain how they change the simulation.*\n",
    "- *In the *`environment.py`* Python file, what Environment class function is called when an agent performs an action?*\n",
    "- *In the *`simulator.py`* Python file, what is the difference between the *`'render_text()'`* function and the *`'render()'`* function?*\n",
    "- *In the *`planner.py`* Python file, will the *`'next_waypoint()`* function consider the North-South or East-West direction first?*"
   ]
  },
  {
   "cell_type": "markdown",
   "metadata": {},
   "source": [
    "**Answer:**\n",
    "\n",
    "a) In the agent.py we change the simulation with three flags : \n",
    "    - verbose:  When set to True, it will display additional output from the simulation\n",
    "    - num_dummies - The number of dummy agents to be used in the environment.\n",
    "    - grid_size   - The size of the grid (columns, rows), default is (8, 6). The total intersections is then 48. \n",
    "b) In the environment.py the function called when the agent performs an action is : act(self, agent, action)<br/>\n",
    "c) The render() function displays the simulation data in the GUI while the render_text() function displays it on the console/terminal<br/>\n",
    "d) The next_waypoint function in the planner considers the East-West direction first & then North-South."
   ]
  },
  {
   "cell_type": "markdown",
   "metadata": {},
   "source": [
    "-----\n",
    "## Implement a Basic Driving Agent\n",
    "\n",
    "The first step to creating an optimized Q-Learning driving agent is getting the agent to actually take valid actions. In this case, a valid action is one of `None`, (do nothing) `'Left'` (turn left), `'Right'` (turn right), or `'Forward'` (go forward). For your first implementation, navigate to the `'choose_action()'` agent function and make the driving agent randomly choose one of these actions. Note that you have access to several class variables that will help you write this functionality, such as `'self.learning'` and `'self.valid_actions'`. Once implemented, run the agent file and simulation briefly to confirm that your driving agent is taking a random action each time step."
   ]
  },
  {
   "cell_type": "code",
   "execution_count": null,
   "metadata": {
    "collapsed": true
   },
   "outputs": [],
   "source": [
    "        import random\n",
    "        if self.learning is not True:\n",
    "            # When not learning, choose a random action\n",
    "            action = random.choice(self.valid_actions)"
   ]
  },
  {
   "cell_type": "markdown",
   "metadata": {},
   "source": [
    "### Basic Agent Simulation Results\n",
    "To obtain results from the initial simulation, you will need to adjust following flags:\n",
    "- `'enforce_deadline'` - Set this to `True` to force the driving agent to capture whether it reaches the destination in time.\n",
    "- `'update_delay'` - Set this to a small value (such as `0.01`) to reduce the time between steps in each trial.\n",
    "- `'log_metrics'` - Set this to `True` to log the simluation results as a `.csv` file in `/logs/`.\n",
    "- `'n_test'` - Set this to `'10'` to perform 10 testing trials.\n",
    "\n",
    "Optionally, you may disable to the visual simulation (which can make the trials go faster) by setting the `'display'` flag to `False`. Flags that have been set here should be returned to their default setting when debugging. It is important that you understand what each flag does and how it affects the simulation!\n",
    "\n",
    "Once you have successfully completed the initial simulation (there should have been 20 training trials and 10 testing trials), run the code cell below to visualize the results. Note that log files are overwritten when identical simulations are run, so be careful with what log file is being loaded!\n"
   ]
  },
  {
   "cell_type": "code",
   "execution_count": null,
   "metadata": {
    "collapsed": false
   },
   "outputs": [],
   "source": [
    "# Load the 'sim_no-learning' log file from the initial simulation results\n",
    "vs.plot_trials('sim_no-learning.csv')"
   ]
  },
  {
   "cell_type": "markdown",
   "metadata": {},
   "source": [
    "![Simulation without learning](random.png)"
   ]
  },
  {
   "cell_type": "markdown",
   "metadata": {},
   "source": [
    "### Question 3\n",
    "Using the visualization above that was produced from your initial simulation, provide an analysis and make several observations about the driving agent. Be sure that you are making at least one observation about each panel present in the visualization. Some things you could consider:\n",
    "- *How frequently is the driving agent making bad decisions? How many of those bad decisions cause accidents?*\n",
    "- *Given that the agent is driving randomly, does the rate of reliabilty make sense?*\n",
    "- *What kind of rewards is the agent receiving for its actions? Do the rewards suggest it has been penalized heavily?*\n",
    "- *As the number of trials increases, does the outcome of results change significantly?*\n",
    "- *Would this Smartcab be considered safe and/or reliable for its passengers? Why or why not?*"
   ]
  },
  {
   "cell_type": "markdown",
   "metadata": {},
   "source": [
    "**Answer:**\n",
    "\n",
    "a) The agent is taking bad actions between 0.36 to 0.43 times. Agent causes minor accidents between 0.03 to 0.06 times. The agent causes major accidents between 0.03 to 0.0485 <br/>\n",
    "b) Yes, when the agent is taking actions randomly it can move forward, left, right or none. When the light is red 25% of the actions are correct, when the light is green 75% of actions are possible. They may still cause accidents with oncoming traffic when it is turning left or right (according to the console logs).<br/>\n",
    "c) From the graph at the top right, we can see that the agent is getting negative rewards on average. In the console logs we do occasionnally see the positive reward, but it is not a good driving behavior. The Agent has been penalized heavily. We can confirm this from the individual rewards in the console logs. The major accidents are penalized very heavily (e.g. -39.29) and also for small rewards (e.g. -19.59). For minor infractions, the reward is about -4.93 ( average). Occasionally, the positive reward is also seen (e.g. 2.52), higher if it drives towards waypoints.\n",
    "d) No. Since the agent is not learning, the outcome of the results is about the same. <br/>\n",
    "e) Absoutely not. The smartcab is always getting into accidents. More over, it is not really driing towards any destination. Its safety & reliability rating is horrible. I don't think it will be considered safe or reliable."
   ]
  },
  {
   "cell_type": "markdown",
   "metadata": {},
   "source": [
    "-----\n",
    "## Inform the Driving Agent\n",
    "The second step to creating an optimized Q-learning driving agent is defining a set of states that the agent can occupy in the environment. Depending on the input, sensory data, and additional variables available to the driving agent, a set of states can be defined for the agent so that it can eventually *learn* what action it should take when occupying a state. The condition of `'if state then action'` for each state is called a **policy**, and is ultimately what the driving agent is expected to learn. Without defining states, the driving agent would never understand which action is most optimal -- or even what environmental variables and conditions it cares about!"
   ]
  },
  {
   "cell_type": "markdown",
   "metadata": {},
   "source": [
    "### Identify States\n",
    "Inspecting the `'build_state()'` agent function shows that the driving agent is given the following data from the environment:\n",
    "- `'waypoint'`, which is the direction the *Smartcab* should drive leading to the destination, relative to the *Smartcab*'s heading.\n",
    "- `'inputs'`, which is the sensor data from the *Smartcab*. It includes \n",
    "  - `'light'`, the color of the light.\n",
    "  - `'left'`, the intended direction of travel for a vehicle to the *Smartcab*'s left. Returns `None` if no vehicle is present.\n",
    "  - `'right'`, the intended direction of travel for a vehicle to the *Smartcab*'s right. Returns `None` if no vehicle is present.\n",
    "  - `'oncoming'`, the intended direction of travel for a vehicle across the intersection from the *Smartcab*. Returns `None` if no vehicle is present.\n",
    "- `'deadline'`, which is the number of actions remaining for the *Smartcab* to reach the destination before running out of time."
   ]
  },
  {
   "cell_type": "markdown",
   "metadata": {},
   "source": [
    "### Question 4\n",
    "*Which features available to the agent are most relevant for learning both **safety** and **efficiency**? Why are these features appropriate for modeling the *Smartcab* in the environment? If you did not choose some features, why are those features* not *appropriate?*"
   ]
  },
  {
   "cell_type": "markdown",
   "metadata": {},
   "source": [
    "**Answer:**\n",
    "\n",
    "The next waypoint, the intersection inputs, and the deadline are all features available to the agent. I feel that Next Waypoint and intersection inputs are important features for learning safety & efficiency. \n",
    "\n",
    "Particularly, intersection inputs are important for learning both safety and efficiency. Obviously, the inputs at the intersection are important for safety. But they are also important for efficiency, since we care about if there is a car in the intersection, so we have to wait for it to take action. It affects the efficiency of the agent as it delays the getting to the destination. <br/>\n",
    "<br/>\n",
    "Next waypoint is important for learning efficiency (getting to the destination in shortest time possible) but not necessarily for safety. For example, an agent taking random actions needs to know what's in the intersection. But not the other way around.<br/>\n",
    "<br/>\n",
    "While the deadline is useful for knowing how long we have left, we don't really need to learn any action based on it. It is not like if we have more time, we will act inefficiently.\n"
   ]
  },
  {
   "cell_type": "markdown",
   "metadata": {},
   "source": [
    "### Define a State Space\n",
    "When defining a set of states that the agent can occupy, it is necessary to consider the *size* of the state space. That is to say, if you expect the driving agent to learn a **policy** for each state, you would need to have an optimal action for *every* state the agent can occupy. If the number of all possible states is very large, it might be the case that the driving agent never learns what to do in some states, which can lead to uninformed decisions. For example, consider a case where the following features are used to define the state of the *Smartcab*:\n",
    "\n",
    "`('is_raining', 'is_foggy', 'is_red_light', 'turn_left', 'no_traffic', 'previous_turn_left', 'time_of_day')`.\n",
    "\n",
    "How frequently would the agent occupy a state like `(False, True, True, True, False, False, '3AM')`? Without a near-infinite amount of time for training, it's doubtful the agent would ever learn the proper action!"
   ]
  },
  {
   "cell_type": "markdown",
   "metadata": {},
   "source": [
    "### Question 5\n",
    "*If a state is defined using the features you've selected from **Question 4**, what would be the size of the state space? Given what you know about the evironment and how it is simulated, do you think the driving agent could learn a policy for each possible state within a reasonable number of training trials?*  \n",
    "**Hint:** Consider the *combinations* of features to calculate the total number of states!"
   ]
  },
  {
   "cell_type": "markdown",
   "metadata": {},
   "source": [
    "**Answer:**\n",
    "\n",
    "The size of the state space is product of the possible states for the selected features. \n",
    "<br/>\n",
    "So state space = 3 (for next waypoint from planner.py) x 2 (light states) x 4 x 4 x 4 (3 possible headings for left, right & oncoming car & not present) = 384<br/>\n",
    "<br/>\n",
    "Assuming deadline to be 5 times the distance, and max distance is the manhatan distance for the grid 8x6. Total number of actions available to learn from in each trial = 5 * (8+6) = 70. There are 20 trials to learn from. So that makes 1400 times we can learn. With 384 possible states we have on average 3.64 chances to learn for each state. <br/>\n",
    "<br/>\n",
    "I think this is not enough time for the agent to learn a policy, and number of trials might need to be increased."
   ]
  },
  {
   "cell_type": "markdown",
   "metadata": {},
   "source": [
    "### Update the Driving Agent State\n",
    "For your second implementation, navigate to the `'build_state()'` agent function. With the justification you've provided in **Question 4**, you will now set the `'state'` variable to a tuple of all the features necessary for Q-Learning. Confirm your driving agent is updating its state by running the agent file and simulation briefly and note whether the state is displaying. If the visual simulation is used, confirm that the updated state corresponds with what is seen in the simulation.\n",
    "\n",
    "**Note:** Remember to reset simulation flags to their default setting when making this observation!\n"
   ]
  },
  {
   "cell_type": "code",
   "execution_count": null,
   "metadata": {
    "collapsed": true
   },
   "outputs": [],
   "source": [
    "        state = waypoint + \"_\" + inputs.get('light')  \n",
    "        \n",
    "        temp=inputs.get('left')\n",
    "        if temp is None: \n",
    "            temp = 'None'\n",
    "        state = state + \"_\" + temp   \n",
    "        \n",
    "        temp=inputs.get('right')\n",
    "        if temp is None: \n",
    "            temp = 'None'\n",
    "        state = state + \"_\" + temp   \n",
    "        \n",
    "        temp=inputs.get('Oncoming')\n",
    "        if temp is None: \n",
    "            temp = 'None'\n",
    "        state = state + \"_\" + temp   \n",
    "        \n",
    "        #Note: The state is updating - e.g. front_red_None_left_None"
   ]
  },
  {
   "cell_type": "markdown",
   "metadata": {},
   "source": [
    "-----\n",
    "## Implement a Q-Learning Driving Agent\n",
    "The third step to creating an optimized Q-Learning agent is to begin implementing the functionality of Q-Learning itself. The concept of Q-Learning is fairly straightforward: For every state the agent visits, create an entry in the Q-table for all state-action pairs available. Then, when the agent encounters a state and performs an action, update the Q-value associated with that state-action pair based on the reward received and the interative update rule implemented. Of course, additional benefits come from Q-Learning, such that we can have the agent choose the *best* action for each state based on the Q-values of each state-action pair possible. For this project, you will be implementing a *decaying,* $\\epsilon$*-greedy* Q-learning algorithm with *no* discount factor. Follow the implementation instructions under each **TODO** in the agent functions.\n",
    "\n",
    "Note that the agent attribute `self.Q` is a dictionary: This is how the Q-table will be formed. Each state will be a key of the `self.Q` dictionary, and each value will then be another dictionary that holds the *action* and *Q-value*. Here is an example:\n",
    "\n",
    "```\n",
    "{ 'state-1': { \n",
    "    'action-1' : Qvalue-1,\n",
    "    'action-2' : Qvalue-2,\n",
    "     ...\n",
    "   },\n",
    "  'state-2': {\n",
    "    'action-1' : Qvalue-1,\n",
    "     ...\n",
    "   },\n",
    "   ...\n",
    "}\n",
    "```\n",
    "\n",
    "Furthermore, note that you are expected to use a *decaying* $\\epsilon$ *(exploration) factor*. Hence, as the number of trials increases, $\\epsilon$ should decrease towards 0. This is because the agent is expected to learn from its behavior and begin acting on its learned behavior. Additionally, The agent will be tested on what it has learned after $\\epsilon$ has passed a certain threshold (the default threshold is 0.01). For the initial Q-Learning implementation, you will be implementing a linear decaying function for $\\epsilon$."
   ]
  },
  {
   "cell_type": "markdown",
   "metadata": {},
   "source": [
    "### Q-Learning Simulation Results\n",
    "To obtain results from the initial Q-Learning implementation, you will need to adjust the following flags and setup:\n",
    "- `'enforce_deadline'` - Set this to `True` to force the driving agent to capture whether it reaches the destination in time.\n",
    "- `'update_delay'` - Set this to a small value (such as `0.01`) to reduce the time between steps in each trial.\n",
    "- `'log_metrics'` - Set this to `True` to log the simluation results as a `.csv` file and the Q-table as a `.txt` file in `/logs/`.\n",
    "- `'n_test'` - Set this to `'10'` to perform 10 testing trials.\n",
    "- `'learning'` - Set this to `'True'` to tell the driving agent to use your Q-Learning implementation.\n",
    "\n",
    "In addition, use the following decay function for $\\epsilon$:\n",
    "\n",
    "$$ \\epsilon_{t+1} = \\epsilon_{t} - 0.05, \\hspace{10px}\\textrm{for trial number } t$$\n",
    "\n",
    "If you have difficulty getting your implementation to work, try setting the `'verbose'` flag to `True` to help debug. Flags that have been set here should be returned to their default setting when debugging. It is important that you understand what each flag does and how it affects the simulation! \n",
    "\n",
    "Once you have successfully completed the initial Q-Learning simulation, run the code cell below to visualize the results. Note that log files are overwritten when identical simulations are run, so be careful with what log file is being loaded!"
   ]
  },
  {
   "cell_type": "code",
   "execution_count": null,
   "metadata": {
    "collapsed": false
   },
   "outputs": [],
   "source": [
    "# def choose_action(self, state):\n",
    "#         \"\"\" The choose_action function is called when the agent is asked to choose\n",
    "#             which action to take, based on the 'state' the smartcab is in. \"\"\"\n",
    "\n",
    "#         # Set the agent state and default action\n",
    "#         self.state = state\n",
    "#         self.next_waypoint = self.planner.next_waypoint()\n",
    "        \n",
    "\n",
    "#         import random\n",
    "#         action = None\n",
    "#         if self.learning is not True:\n",
    "#             # When not learning, choose a random action\n",
    "#             action = random.choice(self.valid_actions)\n",
    "#         else:\n",
    "#             # When learning, choose a random action with 'epsilon' probability\n",
    "#             #   Otherwise, choose an action with the highest Q-value for the current state\n",
    "#             if random.random() < self.epsilon : \n",
    "#                 action = random.choice(self.valid_actions)\n",
    "#             else:\n",
    "#                 maxQ = self.get_maxQ(state)\n",
    "#                 dict = self.Q.get(state)\n",
    "#                 best_actions =[]\n",
    "#                 for a in dict:\n",
    "#                     if dict[a] == maxQ :\n",
    "#                         best_actions.append(a)\n",
    "#                 print len(dict), \" \", len(best_actions), \" \", maxQ, \" \", dict        \n",
    "#                 action = random.choice(best_actions)\n",
    "#         return action\n",
    "#\n",
    "#     def learn(self, state, action, reward):\n",
    "#         \"\"\" The learn function is called after the agent completes an action and\n",
    "#             receives an award. This function does not consider future rewards \n",
    "#             when conducting learning. \"\"\"\n",
    "#         # When learning, implement the value iteration update rule\n",
    "#         #   Use only the learning rate 'alpha' (do not use the discount factor 'gamma')\n",
    "#         if self.learning is True:\n",
    "#             dict=self.Q.get(state)\n",
    "#             qValue = dict.get(action)\n",
    "#             newReward = ((1-self.alpha)* qValue) + (self.alpha * (reward))\n",
    "#             dict[action]=newReward\n",
    "#         return \n",
    "\n",
    "# Load the 'sim_default-learning' file from the default Q-Learning simulation\n",
    "vs.plot_trials('sim_default-learning.csv')"
   ]
  },
  {
   "cell_type": "markdown",
   "metadata": {},
   "source": [
    "![Simulation with default learning](simple.png)"
   ]
  },
  {
   "cell_type": "markdown",
   "metadata": {},
   "source": [
    "### Question 6\n",
    "Using the visualization above that was produced from your default Q-Learning simulation, provide an analysis and make observations about the driving agent like in **Question 3**. Note that the simulation should have also produced the Q-table in a text file which can help you make observations about the agent's learning. Some additional things you could consider:  \n",
    "- *Are there any observations that are similar between the basic driving agent and the default Q-Learning agent?*\n",
    "- *Approximately how many training trials did the driving agent require before testing? Does that number make sense given the epsilon-tolerance?*\n",
    "- *Is the decaying function you implemented for $\\epsilon$ (the exploration factor) accurately represented in the parameters panel?*\n",
    "- *As the number of training trials increased, did the number of bad actions decrease? Did the average reward increase?*\n",
    "- *How does the safety and reliability rating compare to the initial driving agent?*"
   ]
  },
  {
   "cell_type": "markdown",
   "metadata": {},
   "source": [
    "**Answer:**\n",
    "a) No. All the graphs show that compared to basic driving agent the Q learning agent is improving its behavior. <br/>\n",
    "b) Approximately 20 trials. The epsilon decay is linear and the step is -0.05. This means that it takes about 20 trials to reach the lower threshold on epsilon. <br/>\n",
    "c) Yes. We can see a linear decay with the epsilon from 1 to 0 in 20 steps. <br/>\n",
    "d) Yes. The bad actions decreased. There seems to be some increase in minor violations though, which means more learning is needed. The average reward also increased, as seen in the top right graph from -3 to 0.25.  <br/>\n",
    "e) Compared to the basic driving agent, the Safety & Reliability rating have both improved. However, the improvement is not good enough that it can be considered safe to drive. <br/>\n"
   ]
  },
  {
   "cell_type": "markdown",
   "metadata": {},
   "source": [
    "-----\n",
    "## Improve the Q-Learning Driving Agent\n",
    "The third step to creating an optimized Q-Learning agent is to perform the optimization! Now that the Q-Learning algorithm is implemented and the driving agent is successfully learning, it's necessary to tune settings and adjust learning paramaters so the driving agent learns both **safety** and **efficiency**. Typically this step will require a lot of trial and error, as some settings will invariably make the learning worse. One thing to keep in mind is the act of learning itself and the time that this takes: In theory, we could allow the agent to learn for an incredibly long amount of time; however, another goal of Q-Learning is to *transition from experimenting with unlearned behavior to acting on learned behavior*. For example, always allowing the agent to perform a random action during training (if $\\epsilon = 1$ and never decays) will certainly make it *learn*, but never let it *act*. When improving on your Q-Learning implementation, consider the impliciations it creates and whether it is logistically sensible to make a particular adjustment."
   ]
  },
  {
   "cell_type": "markdown",
   "metadata": {},
   "source": [
    "### Improved Q-Learning Simulation Results\n",
    "To obtain results from the initial Q-Learning implementation, you will need to adjust the following flags and setup:\n",
    "- `'enforce_deadline'` - Set this to `True` to force the driving agent to capture whether it reaches the destination in time.\n",
    "- `'update_delay'` - Set this to a small value (such as `0.01`) to reduce the time between steps in each trial.\n",
    "- `'log_metrics'` - Set this to `True` to log the simluation results as a `.csv` file and the Q-table as a `.txt` file in `/logs/`.\n",
    "- `'learning'` - Set this to `'True'` to tell the driving agent to use your Q-Learning implementation.\n",
    "- `'optimized'` - Set this to `'True'` to tell the driving agent you are performing an optimized version of the Q-Learning implementation.\n",
    "\n",
    "Additional flags that can be adjusted as part of optimizing the Q-Learning agent:\n",
    "- `'n_test'` - Set this to some positive number (previously 10) to perform that many testing trials.\n",
    "- `'alpha'` - Set this to a real number between 0 - 1 to adjust the learning rate of the Q-Learning algorithm.\n",
    "- `'epsilon'` - Set this to a real number between 0 - 1 to adjust the starting exploration factor of the Q-Learning algorithm.\n",
    "- `'tolerance'` - set this to some small value larger than 0 (default was 0.05) to set the epsilon threshold for testing.\n",
    "\n",
    "Furthermore, use a decaying function of your choice for $\\epsilon$ (the exploration factor). Note that whichever function you use, it **must decay to **`'tolerance'`** at a reasonable rate**. The Q-Learning agent will not begin testing until this occurs. Some example decaying functions (for $t$, the number of trials):\n",
    "\n",
    "$$ \\epsilon = a^t, \\textrm{for } 0 < a < 1 \\hspace{50px}\\epsilon = \\frac{1}{t^2}\\hspace{50px}\\epsilon = e^{-at}, \\textrm{for } 0 < a < 1 \\hspace{50px} \\epsilon = \\cos(at), \\textrm{for } 0 < a < 1$$\n",
    "You may also use a decaying function for $\\alpha$ (the learning rate) if you so choose, however this is typically less common. If you do so, be sure that it adheres to the inequality $0 \\leq \\alpha \\leq 1$.\n",
    "\n",
    "If you have difficulty getting your implementation to work, try setting the `'verbose'` flag to `True` to help debug. Flags that have been set here should be returned to their default setting when debugging. It is important that you understand what each flag does and how it affects the simulation! \n",
    "\n",
    "Once you have successfully completed the improved Q-Learning simulation, run the code cell below to visualize the results. Note that log files are overwritten when identical simulations are run, so be careful with what log file is being loaded!"
   ]
  },
  {
   "cell_type": "code",
   "execution_count": null,
   "metadata": {
    "collapsed": false
   },
   "outputs": [],
   "source": [
    "# def reset(self, destination=None, testing=False):\n",
    "#         \"\"\" The reset function is called at the beginning of each trial.\n",
    "#             'testing' is set to True if testing trials are being used\n",
    "#             once training trials have completed. \"\"\"\n",
    "#         # Select the destination as the new location to route to\n",
    "#         self.planner.route_to(destination)\n",
    "#         # Update epsilon using a decay function of your choice\n",
    "#         # Update additional class parameters as needed\n",
    "#         import math\n",
    "#         if self.t < 100 : \n",
    "#             self.epsilon = self.epsilon - 0.002\n",
    "#         else:\n",
    "#             self.epsilon = self.epsilon - 0.008\n",
    "#         # self.epsilon=1 - math.sin(0.008* self.t)\n",
    "#         # self.epsilon=math.cos(0.008* self.t)\n",
    "#         # self.epsilon= 1 / ((1 +(0.1*self.t)) * (1 +(0.1*self.t)))\n",
    "#         self.alpha  = self.alpha - 0.003\n",
    "#         # If 'testing' is True, set epsilon and alpha to 0\n",
    "#         if testing is True:\n",
    "#             self.epsilon=0\n",
    "#             self.alpha=0\n",
    "#         self.t = self.t+1\n",
    "#         return None\n",
    "    \n",
    "# Load the 'sim_improved-learning' file from the improved Q-Learning simulation\n",
    "vs.plot_trials('sim_improved-learning.csv')"
   ]
  },
  {
   "cell_type": "markdown",
   "metadata": {},
   "source": [
    "![Simulation with Improved Learning](improved.png)"
   ]
  },
  {
   "cell_type": "markdown",
   "metadata": {},
   "source": [
    "### Question 7\n",
    "Using the visualization above that was produced from your improved Q-Learning simulation, provide a final analysis and make observations about the improved driving agent like in **Question 6**. Questions you should answer:  \n",
    "- *What decaying function was used for epsilon (the exploration factor)?*\n",
    "- *Approximately how many training trials were needed for your agent before begining testing?*\n",
    "- *What epsilon-tolerance and alpha (learning rate) did you use? Why did you use them?*\n",
    "- *How much improvement was made with this Q-Learner when compared to the default Q-Learner from the previous section?*\n",
    "- *Would you say that the Q-Learner results show that your driving agent successfully learned an appropriate policy?*\n",
    "- *Are you satisfied with the safety and reliability ratings of the *Smartcab*?*"
   ]
  },
  {
   "cell_type": "markdown",
   "metadata": {},
   "source": [
    "**Answer:**\n",
    "a)  My intuition in selecting this was we need a good exploration of states & actions to get different combinations. This gave good coverage for initial safety values.  But in the exploitation, we need enough time select actions with higher rewards. That is, our reliability will be hiher if we reach the destination faster in the trial. Safety increases along with reliability in the exploitation phase.  I tried multiple functions (cosine, 1-sine, increase in rate of decay, etc. totalling to about 25 different trials) Finally, I decided to use a combination linear decay, first until 10 trials decays slowly and then decays faster. <br/>\n",
    "b) Based on the need for more trials identified in the state space question I aimed at about 200 trials. I updated the line functions in a way to achieve this. (100 steps of 0.002 & then 100 steps of 0.008) <br/>\n",
    "c) My epsilon tolerance was 0.025. Initially I tried different options like threshold like 0.2. But I realized that the learning needs to spend a large time exploiting to increase both reliability & safety. <br/>\n",
    "d) Improvement was considerable. Compared to the default learner, the final total number of bad actions decreased from about 0.13 in default to 0.04, the final average reward increased from 0.2 to 1.2. Safety & Reliability increased from B & D rating to A+ & B.<br/>\n",
    "e) Yes.  We can see that the average reward function increases as the trials progress.  The total number of actions also decreases. The bad actions causing both minor and major violation and accidents increases. This means that the learner is able to learn the right policy. I discuss on the reliability below. <br/>\n",
    "f) Yes, after spending 8 hours with different combinations, I was able to get A+ & B Safety & Reliability rating. I had to change the alpha value as well to reach these goals. After different trials I was able to finalize an alpha with a decay. This means in the exploration phase, the learning steps is large, but reduces as we switch to exploitation. I was hoping to get better reliability, but this seemed the best for now."
   ]
  },
  {
   "cell_type": "markdown",
   "metadata": {},
   "source": [
    "### Define an Optimal Policy\n",
    "\n",
    "Sometimes, the answer to the important question *\"what am I trying to get my agent to learn?\"* only has a theoretical answer and cannot be concretely described. Here, however, you can concretely define what it is the agent is trying to learn, and that is the U.S. right-of-way traffic laws. Since these laws are known information, you can further define, for each state the *Smartcab* is occupying, the optimal action for the driving agent based on these laws. In that case, we call the set of optimal state-action pairs an **optimal policy**. Hence, unlike some theoretical answers, it is clear whether the agent is acting \"incorrectly\" not only by the reward (penalty) it receives, but also by pure observation. If the agent drives through a red light, we both see it receive a negative reward but also know that it is not the correct behavior. This can be used to your advantage for verifying whether the **policy** your driving agent has learned is the correct one, or if it is a **suboptimal policy**."
   ]
  },
  {
   "cell_type": "markdown",
   "metadata": {},
   "source": [
    "### Question 8\n",
    "Provide a few examples (using the states you've defined) of what an optimal policy for this problem would look like. Afterwards, investigate the `'sim_improved-learning.txt'` text file to see the results of your improved Q-Learning algorithm. _For each state that has been recorded from the simulation, is the **policy** (the action with the highest value) correct for the given state? Are there any states where the policy is different than what would be expected from an optimal policy?_ Provide an example of a state and all state-action rewards recorded, and explain why it is the correct policy."
   ]
  },
  {
   "cell_type": "markdown",
   "metadata": {},
   "source": [
    "**Answer:** \n",
    "\n",
    "Optimal Policy: The optimal policy will be the rules for driving with U.S. laws of right of way:<br/>\n",
    "a) If the light is red,  agent should not take left turn or move forward, and instead idle.<br/>\n",
    "b) If the light is red and agent wants to turn right, then only if there is no one already in that intersection & car coming from front is not turning left.<br/>\n",
    "c) If the light is green and agent wants to move forward or right, agent has right of way to move forward or right if there is no one there already. If there is someone there already in the front or the right, the agent should idle.<br/> \n",
    "d) If the light is green and agent wants to turn left, then it can only do so if there is no car oncoming from the front or there is a car and it not going straight or turning right.<br/>\n",
    "<br/>\n",
    "Examples of optimal policy that was learnt:<br/>\n",
    "When the light is red, and we have to take a right turn, we can do so if theres no car coming from the left. - In the learned file we see that right_red_None_None_None (Waypoint is right, and there is no car coming from the left) the reward for right is maximum { forward : -9.63, right : 1.93, None : 1.50, left : -10.01}. But, if there is a car coming front from the left, it is best to stay idle, as any other action will cause accident. We see that for right_red_forward_None_None (Waypoint is right, and there is a car coming straight from the left) the max reward is for idle. { forward :  -39.81, right : -18.66, None : 1.97, left : -39.55}\n",
    "\n",
    "<br/>\n",
    "Examples of optimal policy that was not learnt:<br/> \n",
    "When the light is green and theres no oncoming traffic we can turn left. Here it should turn left in the state left_green_None_None_None. But instead it learned to move right {forward : 0.18, right :0.74, None :-3.14, left : -2.73) I suspect that the system mis-learnt this as the learning rate was too high. (But on the other hand, it should never have gotten a negative reward for the action to turn left in this case. This is one of the reasons the reliability was low). \n"
   ]
  },
  {
   "cell_type": "markdown",
   "metadata": {},
   "source": [
    "-----\n",
    "### Optional: Future Rewards - Discount Factor, `'gamma'`\n",
    "Curiously, as part of the Q-Learning algorithm, you were asked to **not** use the discount factor, `'gamma'` in the implementation. Including future rewards in the algorithm is used to aid in propogating positive rewards backwards from a future state to the current state. Essentially, if the driving agent is given the option to make several actions to arrive at different states, including future rewards will bias the agent towards states that could provide even more rewards. An example of this would be the driving agent moving towards a goal: With all actions and rewards equal, moving towards the goal would theoretically yield better rewards if there is an additional reward for reaching the goal. However, even though in this project, the driving agent is trying to reach a destination in the allotted time, including future rewards will not benefit the agent. In fact, if the agent were given many trials to learn, it could negatively affect Q-values!"
   ]
  },
  {
   "cell_type": "markdown",
   "metadata": {},
   "source": [
    "### Optional Question 9\n",
    "*There are two characteristics about the project that invalidate the use of future rewards in the Q-Learning algorithm. One characteristic has to do with the *Smartcab* itself, and the other has to do with the environment. Can you figure out what they are and why future rewards won't work for this project?*"
   ]
  },
  {
   "cell_type": "markdown",
   "metadata": {},
   "source": [
    "**Answer:**\n",
    "\n",
    "a) Reason about the smartcab itself: The agent does not have the full view of the entire grid and can only see the state of the other cars at the intersection and of the light. But this is okay. One of the input features is the way point. The way point already encapsulates the best possible action at that location as it is calculated using the manhattan distance. Because of this we do not need future rewards. <br/>\n",
    "b) Reason about the environment: The destination is changing every time. Because of this we cannot optimize the Q-values based on last trial as the rewards will change for those actions. "
   ]
  },
  {
   "cell_type": "markdown",
   "metadata": {},
   "source": [
    "> **Note**: Once you have completed all of the code implementations and successfully answered each question above, you may finalize your work by exporting the iPython Notebook as an HTML document. You can do this by using the menu above and navigating to  \n",
    "**File -> Download as -> HTML (.html)**. Include the finished document along with this notebook as your submission."
   ]
  }
 ],
 "metadata": {
  "anaconda-cloud": {},
  "kernelspec": {
   "display_name": "Python [default]",
   "language": "python",
   "name": "python2"
  },
  "language_info": {
   "codemirror_mode": {
    "name": "ipython",
    "version": 2
   },
   "file_extension": ".py",
   "mimetype": "text/x-python",
   "name": "python",
   "nbconvert_exporter": "python",
   "pygments_lexer": "ipython2",
   "version": "2.7.12"
  }
 },
 "nbformat": 4,
 "nbformat_minor": 0
}
